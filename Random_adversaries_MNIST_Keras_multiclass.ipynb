{
  "nbformat": 4,
  "nbformat_minor": 0,
  "metadata": {
    "colab": {
      "name": "Multiclass on keras ( adversaries with random) .ipynb",
      "version": "0.3.2",
      "provenance": [],
      "collapsed_sections": [
        "Pa7Ae9dtskVD",
        "KGL18lvKsnhD"
      ],
      "include_colab_link": true
    },
    "kernelspec": {
      "name": "python3",
      "display_name": "Python 3"
    },
    "accelerator": "GPU"
  },
  "cells": [
    {
      "cell_type": "markdown",
      "metadata": {
        "id": "view-in-github",
        "colab_type": "text"
      },
      "source": [
        "<a href=\"https://colab.research.google.com/github/deepanshudaw/Adversarial-Attacks/blob/master/Random_adversaries_MNIST_Keras_multiclass.ipynb\" target=\"_parent\"><img src=\"https://colab.research.google.com/assets/colab-badge.svg\" alt=\"Open In Colab\"/></a>"
      ]
    },
    {
      "cell_type": "markdown",
      "metadata": {
        "id": "PcN7g_GLsgKm",
        "colab_type": "text"
      },
      "source": [
        "Imports"
      ]
    },
    {
      "cell_type": "code",
      "metadata": {
        "id": "pweoNtXsm8w_",
        "colab_type": "code",
        "colab": {}
      },
      "source": [
        "import tensorflow as tf\n",
        "from tensorflow import keras\n",
        "import numpy as np\n",
        "import matplotlib.pyplot as plt\n",
        "import random\n",
        "from sklearn.metrics import confusion_matrix"
      ],
      "execution_count": 0,
      "outputs": []
    },
    {
      "cell_type": "markdown",
      "metadata": {
        "id": "Pa7Ae9dtskVD",
        "colab_type": "text"
      },
      "source": [
        "#Data"
      ]
    },
    {
      "cell_type": "code",
      "metadata": {
        "id": "hQ5Pt-6VnVGM",
        "colab_type": "code",
        "colab": {}
      },
      "source": [
        "mnist = keras.datasets.mnist"
      ],
      "execution_count": 0,
      "outputs": []
    },
    {
      "cell_type": "code",
      "metadata": {
        "id": "NEqFZa4rnXZs",
        "colab_type": "code",
        "colab": {}
      },
      "source": [
        "(train_images, train_labels), (test_images, test_labels) = mnist.load_data()\n",
        "train_images = train_images / 255.0\n",
        "test_images = test_images / 255.0"
      ],
      "execution_count": 0,
      "outputs": []
    },
    {
      "cell_type": "markdown",
      "metadata": {
        "id": "KGL18lvKsnhD",
        "colab_type": "text"
      },
      "source": [
        "#Model"
      ]
    },
    {
      "cell_type": "code",
      "metadata": {
        "id": "-ou2AfmxpLOx",
        "colab_type": "code",
        "outputId": "54b67bc3-b138-47a4-b927-c56813cb4690",
        "colab": {
          "base_uri": "https://localhost:8080/",
          "height": 104
        }
      },
      "source": [
        "model = keras.Sequential([\n",
        "    keras.layers.Flatten(input_shape=(28, 28)),\n",
        "    keras.layers.Dense(128, activation=tf.nn.relu),\n",
        "    keras.layers.Dense(10, activation=tf.nn.softmax)\n",
        "])"
      ],
      "execution_count": 0,
      "outputs": [
        {
          "output_type": "stream",
          "text": [
            "WARNING: Logging before flag parsing goes to stderr.\n",
            "W0618 10:23:06.229394 140240953980800 deprecation.py:506] From /usr/local/lib/python3.6/dist-packages/tensorflow/python/ops/init_ops.py:1251: calling VarianceScaling.__init__ (from tensorflow.python.ops.init_ops) with dtype is deprecated and will be removed in a future version.\n",
            "Instructions for updating:\n",
            "Call initializer instance with the dtype argument instead of passing it to the constructor\n"
          ],
          "name": "stderr"
        }
      ]
    },
    {
      "cell_type": "code",
      "metadata": {
        "id": "fEBqnJh_tYiZ",
        "colab_type": "code",
        "colab": {}
      },
      "source": [
        "model.compile(optimizer='adam', \n",
        "              loss='sparse_categorical_crossentropy',\n",
        "              metrics=['accuracy'])"
      ],
      "execution_count": 0,
      "outputs": []
    },
    {
      "cell_type": "code",
      "metadata": {
        "id": "pwUWbThSP8R5",
        "colab_type": "code",
        "outputId": "93cf0462-f0f1-4349-9ec5-e7c3b9353905",
        "colab": {
          "base_uri": "https://localhost:8080/",
          "height": 370
        }
      },
      "source": [
        "model.fit(train_images, train_labels, epochs=10)"
      ],
      "execution_count": 0,
      "outputs": [
        {
          "output_type": "stream",
          "text": [
            "Epoch 1/10\n",
            "60000/60000 [==============================] - 9s 155us/sample - loss: 0.2632 - acc: 0.9244\n",
            "Epoch 2/10\n",
            "60000/60000 [==============================] - 9s 143us/sample - loss: 0.1179 - acc: 0.9650\n",
            "Epoch 3/10\n",
            "60000/60000 [==============================] - 8s 139us/sample - loss: 0.0806 - acc: 0.9755\n",
            "Epoch 4/10\n",
            "60000/60000 [==============================] - 7s 123us/sample - loss: 0.0611 - acc: 0.9815\n",
            "Epoch 5/10\n",
            "60000/60000 [==============================] - 7s 125us/sample - loss: 0.0456 - acc: 0.9857\n",
            "Epoch 6/10\n",
            "60000/60000 [==============================] - 8s 129us/sample - loss: 0.0365 - acc: 0.9885\n",
            "Epoch 7/10\n",
            "60000/60000 [==============================] - 8s 128us/sample - loss: 0.0296 - acc: 0.9912\n",
            "Epoch 8/10\n",
            "60000/60000 [==============================] - 9s 144us/sample - loss: 0.0236 - acc: 0.9930\n",
            "Epoch 9/10\n",
            "60000/60000 [==============================] - 9s 146us/sample - loss: 0.0190 - acc: 0.9941\n",
            "Epoch 10/10\n",
            "60000/60000 [==============================] - 9s 146us/sample - loss: 0.0165 - acc: 0.9948\n"
          ],
          "name": "stdout"
        },
        {
          "output_type": "execute_result",
          "data": {
            "text/plain": [
              "<tensorflow.python.keras.callbacks.History at 0x7f8c125ff390>"
            ]
          },
          "metadata": {
            "tags": []
          },
          "execution_count": 8
        }
      ]
    },
    {
      "cell_type": "code",
      "metadata": {
        "id": "iC4C9f1OPKv7",
        "colab_type": "code",
        "outputId": "1f6baf0c-c332-42cc-dea5-ae5092f7e507",
        "colab": {
          "base_uri": "https://localhost:8080/"
        }
      },
      "source": [
        "test_loss, test_acc = model.evaluate(test_images, test_labels)\n",
        "\n",
        "print('Test accuracy:', test_acc)"
      ],
      "execution_count": 0,
      "outputs": [
        {
          "output_type": "stream",
          "text": [
            "10000/10000 [==============================] - 1s 65us/sample - loss: 0.0854 - acc: 0.9751\n",
            "Test accuracy: 0.9751\n"
          ],
          "name": "stdout"
        }
      ]
    },
    {
      "cell_type": "code",
      "metadata": {
        "id": "gRoJvIQNncKI",
        "colab_type": "code",
        "outputId": "61896086-2ea8-41d5-f3eb-ae70af2b5ac6",
        "colab": {
          "base_uri": "https://localhost:8080/"
        }
      },
      "source": [
        "model.summary()"
      ],
      "execution_count": 0,
      "outputs": [
        {
          "output_type": "stream",
          "text": [
            "Model: \"sequential\"\n",
            "_________________________________________________________________\n",
            "Layer (type)                 Output Shape              Param #   \n",
            "=================================================================\n",
            "flatten (Flatten)            (None, 784)               0         \n",
            "_________________________________________________________________\n",
            "dense (Dense)                (None, 128)               100480    \n",
            "_________________________________________________________________\n",
            "dense_1 (Dense)              (None, 10)                1290      \n",
            "=================================================================\n",
            "Total params: 101,770\n",
            "Trainable params: 101,770\n",
            "Non-trainable params: 0\n",
            "_________________________________________________________________\n"
          ],
          "name": "stdout"
        }
      ]
    },
    {
      "cell_type": "markdown",
      "metadata": {
        "id": "YSzbnDrBwoqX",
        "colab_type": "text"
      },
      "source": [
        "#Distorted Image creation\n"
      ]
    },
    {
      "cell_type": "markdown",
      "metadata": {
        "id": "C2lJeC_ZMTRx",
        "colab_type": "text"
      },
      "source": [
        "Create a new array with test images"
      ]
    },
    {
      "cell_type": "code",
      "metadata": {
        "id": "nvCQ51ZHDdxD",
        "colab_type": "code",
        "colab": {}
      },
      "source": [
        "test=np.empty([10000,28,28])\n",
        "for i in range(10000):\n",
        "  for j in range(28):\n",
        "    for k in range(28):\n",
        "      test[i][j][k]=test_images[i][j][k]\n",
        "test=test.reshape(10000,784)"
      ],
      "execution_count": 0,
      "outputs": []
    },
    {
      "cell_type": "markdown",
      "metadata": {
        "id": "6qvT4Ge3Msov",
        "colab_type": "text"
      },
      "source": [
        "The function distort takes a distortion and the index of the new array(the data element to be distorted from 10000 examples) and returns an image which is distorted by that perccentage"
      ]
    },
    {
      "cell_type": "code",
      "metadata": {
        "id": "z1DxAKzg2o2l",
        "colab_type": "code",
        "colab": {}
      },
      "source": [
        "def distort(dist,i):\n",
        "  dist_test=np.empty([784])\n",
        "  for j in range(784):\n",
        "    dist_test[j]=test[i][j]\n",
        "  s=np.random.choice(784, (int)(784*distortion),replace=False)\n",
        "  for k in s:\n",
        "    dist_test[k]=random.randint(0,254)/255\n",
        "  return dist_test.reshape(1,28,28)"
      ],
      "execution_count": 0,
      "outputs": []
    },
    {
      "cell_type": "markdown",
      "metadata": {
        "id": "s3kI6et_NCZW",
        "colab_type": "text"
      },
      "source": [
        "A snippet to display what happens to images after they have been distorted"
      ]
    },
    {
      "cell_type": "code",
      "metadata": {
        "id": "mKM1C_ys4AHW",
        "colab_type": "code",
        "outputId": "f9308531-c16b-426f-9140-02dd7f3d7693",
        "colab": {
          "base_uri": "https://localhost:8080/",
          "height": 2184
        }
      },
      "source": [
        "img_index=random.randint(0,9999)\n",
        "print(\"Image Index {}\".format(img_index))\n",
        "for distortion in [0,0.1,0.2,0.3,0.4,0.5,0.6,0.7]:\n",
        "  dist_test=np.empty([10000,28,28])\n",
        "  for i in range(10000):\n",
        "    dist_test[i]=distort(distortion,i)\n",
        "  print ('Distortion : ',distortion)\n",
        "  plt.imshow(dist_test[img_index], cmap='Greys')\n",
        "  plt.show()"
      ],
      "execution_count": 0,
      "outputs": [
        {
          "output_type": "stream",
          "text": [
            "Image Index 591\n",
            "Distortion :  0\n"
          ],
          "name": "stdout"
        },
        {
          "output_type": "display_data",
          "data": {
            "image/png": "[encoded data removed]",
            "text/plain": [
              "<Figure size 432x288 with 1 Axes>"
            ]
          },
          "metadata": {
            "tags": []
          }
        },
        {
          "output_type": "stream",
          "text": [
            "Distortion :  0.1\n"
          ],
          "name": "stdout"
        },
        {
          "output_type": "display_data",
          "data": {
            "image/png": "[encoded data removed]",
            "text/plain": [
              "<Figure size 432x288 with 1 Axes>"
            ]
          },
          "metadata": {
            "tags": []
          }
        },
        {
          "output_type": "stream",
          "text": [
            "Distortion :  0.2\n"
          ],
          "name": "stdout"
        },
        {
          "output_type": "display_data",
          "data": {
            "image/png": "[encoded data removed]",
            "text/plain": [
              "<Figure size 432x288 with 1 Axes>"
            ]
          },
          "metadata": {
            "tags": []
          }
        },
        {
          "output_type": "stream",
          "text": [
            "Distortion :  0.3\n"
          ],
          "name": "stdout"
        },
        {
          "output_type": "display_data",
          "data": {
            "image/png": "[encoded data removed]",
            "text/plain": [
              "<Figure size 432x288 with 1 Axes>"
            ]
          },
          "metadata": {
            "tags": []
          }
        },
        {
          "output_type": "stream",
          "text": [
            "Distortion :  0.4\n"
          ],
          "name": "stdout"
        },
        {
          "output_type": "display_data",
          "data": {
            "image/png": "[encoded data removed]",
            "text/plain": [
              "<Figure size 432x288 with 1 Axes>"
            ]
          },
          "metadata": {
            "tags": []
          }
        },
        {
          "output_type": "stream",
          "text": [
            "Distortion :  0.5\n"
          ],
          "name": "stdout"
        },
        {
          "output_type": "display_data",
          "data": {
            "image/png": "[encoded data removed]",
            "text/plain": [
              "<Figure size 432x288 with 1 Axes>"
            ]
          },
          "metadata": {
            "tags": []
          }
        },
        {
          "output_type": "stream",
          "text": [
            "Distortion :  0.6\n"
          ],
          "name": "stdout"
        },
        {
          "output_type": "display_data",
          "data": {
            "image/png": "[encoded data removed]",
            "text/plain": [
              "<Figure size 432x288 with 1 Axes>"
            ]
          },
          "metadata": {
            "tags": []
          }
        },
        {
          "output_type": "stream",
          "text": [
            "Distortion :  0.7\n"
          ],
          "name": "stdout"
        },
        {
          "output_type": "display_data",
          "data": {
            "image/png": "[encoded data removed]",
            "text/plain": [
              "<Figure size 432x288 with 1 Axes>"
            ]
          },
          "metadata": {
            "tags": []
          }
        }
      ]
    },
    {
      "cell_type": "markdown",
      "metadata": {
        "id": "V514bfXQsteZ",
        "colab_type": "text"
      },
      "source": [
        "predict function generates an array of 10000 size with predicted label from the datset"
      ]
    },
    {
      "cell_type": "code",
      "metadata": {
        "id": "EVOqGwUAIOq0",
        "colab_type": "code",
        "colab": {}
      },
      "source": [
        "def predict():\n",
        "  predictedarr=np.empty(10000)\n",
        "  for j in range(10000):\n",
        "    arr=(model.predict(dist_test[j].reshape(1,28,28))[0])\n",
        "    for i in range (10):\n",
        "      if max(arr)==arr[i]:\n",
        "        predictedarr[j]=i\n",
        "  return predictedarr"
      ],
      "execution_count": 0,
      "outputs": []
    },
    {
      "cell_type": "code",
      "metadata": {
        "id": "OdfvsrGk7BQs",
        "colab_type": "code",
        "outputId": "68a3e591-1d39-4ea5-af37-b545c63c4569",
        "colab": {
          "base_uri": "https://localhost:8080/",
          "height": 2369
        }
      },
      "source": [
        "dist_test=np.empty([10000,28,28])\n",
        "acc=[]\n",
        "for j,distortion in enumerate(np.arange(10)/10):\n",
        "  dist_test=np.empty([10000,28,28])\n",
        "  for i in range(10000):\n",
        "    dist_test[i]=distort(distortion,i)\n",
        "  test_loss, test_acc = model.evaluate(dist_test, test_labels)\n",
        "  acc.insert(j,test_acc)\n",
        "  print(\"Distortion: \",distortion,\"  |  \",\"Accuracy:  \",test_acc)\n",
        "  pred=predict()\n",
        "  print(confusion_matrix(pred,test_labels))\n",
        "  print()\n",
        "  print(\"_____________________________________________________\")"
      ],
      "execution_count": 0,
      "outputs": [
        {
          "output_type": "stream",
          "text": [
            "10000/10000 [==============================] - 1s 99us/sample - loss: 0.0854 - acc: 0.9751\n",
            "Distortion:  0.0   |   Accuracy:   0.9751\n",
            "[[ 972    0    6    0    1    2    3    1    9    2]\n",
            " [   0 1126    4    0    0    1    2    8    0    4]\n",
            " [   1    3  991    3    1    0    3    6    3    0]\n",
            " [   0    1    3  997    1   18    1    3    8   10]\n",
            " [   0    0    1    0  964    2    3    1    4   12]\n",
            " [   1    0    0    0    1  856    3    0    8    5]\n",
            " [   3    2    5    2    4    5  943    0    3    0]\n",
            " [   1    0    8    3    2    1    0 1002    5    2]\n",
            " [   2    3   13    5    1    5    0    1  929    3]\n",
            " [   0    0    1    0    7    2    0    6    5  971]]\n",
            "\n",
            "_____________________________________________________\n",
            "10000/10000 [==============================] - 1s 101us/sample - loss: 0.2376 - acc: 0.9329\n",
            "Distortion:  0.1   |   Accuracy:   0.9329\n",
            "[[ 949    0    3    1    0    2    3    1    7    2]\n",
            " [   0 1040    2    0    2    1    1    3    0    4]\n",
            " [   8   36  991    9   18    1    8   40   20    4]\n",
            " [   4   13    5  991    5   29    3   15   32   34]\n",
            " [   0    0    0    0  870    1    1    1    4   10]\n",
            " [   3    6    0    3    7  839   10    1    9   17]\n",
            " [   8    3    5    0   11    8  925    0    6    0]\n",
            " [   2   14   14    2   18    3    2  953    7   22]\n",
            " [   5   22   11    4   12    6    5    9  886   31]\n",
            " [   1    1    1    0   39    2    0    5    3  885]]\n",
            "\n",
            "_____________________________________________________\n",
            "10000/10000 [==============================] - 1s 97us/sample - loss: 1.1018 - acc: 0.7626\n",
            "Distortion:  0.2   |   Accuracy:   0.7626\n",
            "[[887   0   3   1   2   3   2   2   1   3]\n",
            " [  0 474   1   0   1   2   0   0   0   4]\n",
            " [ 37 406 949  29  60  14  29 124 104  34]\n",
            " [  3  75  21 932  39  31   8  64  68 104]\n",
            " [  0   1   1   0 561   0   1   0   1   9]\n",
            " [ 10  26   5  27  31 813  40  15  27  76]\n",
            " [ 26  12   9   1  67  10 862   1   8   6]\n",
            " [  9  33  18   4  66   4   0 796   4  73]\n",
            " [  4 108  25  16  84  15  16  20 758 106]\n",
            " [  4   0   0   0  71   0   0   6   3 594]]\n",
            "\n",
            "_____________________________________________________\n",
            "10000/10000 [==============================] - 1s 108us/sample - loss: 2.8302 - acc: 0.5754\n",
            "Distortion:  0.3   |   Accuracy:   0.5754\n",
            "[[759   0   5   0   2   0   1   2   3   4]\n",
            " [  0  86   0   1   0   0   0   0   0   1]\n",
            " [ 93 641 901  71 114  48  84 206 187  81]\n",
            " [  3 106  34 780  61  53  17  72  84 169]\n",
            " [  0   0   0   0 254   0   0   0   1   8]\n",
            " [ 45  73  21 114  91 718  58  48  59 153]\n",
            " [ 58  38  17   1 131  26 750   3  10  26]\n",
            " [ 16  43  24  10  90   8   6 639   6 107]\n",
            " [  5 147  30  33 164  38  42  52 622 215]\n",
            " [  1   1   0   0  75   1   0   6   2 245]]\n",
            "\n",
            "_____________________________________________________\n",
            "10000/10000 [==============================] - 1s 80us/sample - loss: 5.0692 - acc: 0.4429\n",
            "Distortion:  0.4   |   Accuracy:   0.4429\n",
            "[[586   0   3   1   0   2   5   1   2   3]\n",
            " [  0   7   0   0   0   0   0   0   0   0]\n",
            " [150 673 805 141 151  82 128 247 285 133]\n",
            " [  3 117  52 623  59  50  18  79  65 150]\n",
            " [  0   0   1   0  70   0   3   0   0   2]\n",
            " [ 71 121  47 175 141 633 115  83  93 209]\n",
            " [109  43  31   5 229  33 616  17  13  41]\n",
            " [ 38  38  37  18  95  14  12 513  15 125]\n",
            " [ 21 135  56  47 207  78  59  87 501 271]\n",
            " [  2   1   0   0  30   0   2   1   0  75]]\n",
            "\n",
            "_____________________________________________________\n",
            "10000/10000 [==============================] - 1s 96us/sample - loss: 7.3873 - acc: 0.3437\n",
            "Distortion:  0.5   |   Accuracy:   0.3437\n",
            "[[412   1   0   1   0   3   0   2   1   2]\n",
            " [  0   0   0   0   0   0   0   0   0   0]\n",
            " [181 604 709 254 119 131 142 313 302 168]\n",
            " [  1 102  56 426  43  45  21  71  58 152]\n",
            " [  0   0   0   0   9   0   0   0   0   2]\n",
            " [127 190  96 239 166 549 162 154 147 269]\n",
            " [163  60  57   6 296  52 513  20  30  59]\n",
            " [ 68  40  50  24  98  19  21 394  29 107]\n",
            " [ 28 138  64  60 237  93  99  74 407 232]\n",
            " [  0   0   0   0  14   0   0   0   0  18]]\n",
            "\n",
            "_____________________________________________________\n",
            "10000/10000 [==============================] - 1s 102us/sample - loss: 9.7960 - acc: 0.2499\n",
            "Distortion:  0.6   |   Accuracy:   0.2499\n",
            "[[182   0   1   0   1   4   0   1   1   0]\n",
            " [  0   0   0   0   0   0   0   0   0   0]\n",
            " [209 560 578 296 154 187 158 287 350 182]\n",
            " [  3  76  66 229  33  40  23  74  44  82]\n",
            " [  0   0   0   0   1   0   0   0   0   0]\n",
            " [191 242 162 350 238 483 232 236 223 325]\n",
            " [259  71  84  21 277  79 415  34  37  88]\n",
            " [ 86  47  43  42  98  25  32 320  29 138]\n",
            " [ 49 139  98  72 177  74  98  76 290 193]\n",
            " [  1   0   0   0   3   0   0   0   0   1]]\n",
            "\n",
            "_____________________________________________________\n",
            "10000/10000 [==============================] - 1s 102us/sample - loss: 12.1479 - acc: 0.1984\n",
            "Distortion:  0.7   |   Accuracy:   0.1984\n",
            "[[ 62   0   0   1   1   1   1   0   1   0]\n",
            " [  0   0   0   0   0   0   0   0   0   0]\n",
            " [235 504 515 334 182 215 146 307 355 220]\n",
            " [  6  53  27 106  32  24  13  32  43  55]\n",
            " [  0   0   0   0   0   0   0   0   0   0]\n",
            " [281 344 218 414 262 461 294 266 287 362]\n",
            " [256  95 116  30 256  86 379  63  71 116]\n",
            " [ 98  48  67  65 114  49  44 283  39 135]\n",
            " [ 42  91  89  60 135  56  81  77 178 121]\n",
            " [  0   0   0   0   0   0   0   0   0   0]]\n",
            "\n",
            "_____________________________________________________\n",
            "10000/10000 [==============================] - 1s 62us/sample - loss: 14.7623 - acc: 0.1479\n",
            "Distortion:  0.8   |   Accuracy:   0.1479\n",
            "[[  4   0   0   0   0   2   0   0   0   0]\n",
            " [  0   0   0   0   0   0   0   0   0   0]\n",
            " [224 454 417 319 177 250 195 316 348 238]\n",
            " [  5  22  17  51  14  19   8  24  24  36]\n",
            " [  0   0   0   0   0   0   0   0   0   0]\n",
            " [352 402 316 456 329 415 343 346 342 402]\n",
            " [244 127 137  63 272 110 290  89  96 115]\n",
            " [116  78  90  83 126  62  71 208  70 152]\n",
            " [ 35  52  55  38  64  34  51  45  94  66]\n",
            " [  0   0   0   0   0   0   0   0   0   0]]\n",
            "\n",
            "_____________________________________________________\n",
            "10000/10000 [==============================] - 1s 61us/sample - loss: 17.3757 - acc: 0.1204\n",
            "Distortion:  0.9   |   Accuracy:   0.1204\n",
            "[[  0   0   0   0   0   0   0   0   0   0]\n",
            " [  0   0   0   0   0   0   0   0   0   0]\n",
            " [233 385 358 302 220 247 206 304 297 276]\n",
            " [  5  13  11  14  11   6   7  10   6  14]\n",
            " [  0   0   0   0   0   0   0   0   0   0]\n",
            " [402 447 367 431 388 405 418 419 426 445]\n",
            " [205 153 184 123 211 126 219 103 130 148]\n",
            " [114 114  82 114 114  93  86 177  84  99]\n",
            " [ 21  23  30  26  38  15  22  15  31  27]\n",
            " [  0   0   0   0   0   0   0   0   0   0]]\n",
            "\n",
            "_____________________________________________________\n"
          ],
          "name": "stdout"
        }
      ]
    },
    {
      "cell_type": "code",
      "metadata": {
        "id": "l1mAjJP6BYkQ",
        "colab_type": "code",
        "outputId": "53fc238b-ee18-41dc-ec38-ad0276112008",
        "colab": {
          "base_uri": "https://localhost:8080/",
          "height": 312
        }
      },
      "source": [
        "plt.xlabel(\"Epsilon\")\n",
        "plt.ylabel(\"Accuracy\")\n",
        "plt.title(\"Variation of accuracy with epsilon\")\n",
        "plt.plot(np.arange(10)/10,acc)\n"
      ],
      "execution_count": 0,
      "outputs": [
        {
          "output_type": "execute_result",
          "data": {
            "text/plain": [
              "[<matplotlib.lines.Line2D at 0x7f8bc5428668>]"
            ]
          },
          "metadata": {
            "tags": []
          },
          "execution_count": 16
        },
        {
          "output_type": "display_data",
          "data": {
            "image/png": "[encoded data removed]",
            "text/plain": [
              "<Figure size 432x288 with 1 Axes>"
            ]
          },
          "metadata": {
            "tags": []
          }
        }
      ]
    }
  ]
}