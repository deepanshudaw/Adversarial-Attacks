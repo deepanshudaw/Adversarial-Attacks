{
  "nbformat": 4,
  "nbformat_minor": 0,
  "metadata": {
    "colab": {
      "name": "Hierarchical logreg (keras dataset)",
      "version": "0.3.2",
      "provenance": [],
      "collapsed_sections": [],
      "include_colab_link": true
    },
    "kernelspec": {
      "name": "python3",
      "display_name": "Python 3"
    },
    "accelerator": "GPU"
  },
  "cells": [
    {
      "cell_type": "markdown",
      "metadata": {
        "id": "view-in-github",
        "colab_type": "text"
      },
      "source": [
        "<a href=\"https://colab.research.google.com/github/deepanshudaw/Adversarial-Attacks/blob/master/Logistic_Regression_Hierarchical_MNIST.ipynb\" target=\"_parent\"><img src=\"https://colab.research.google.com/assets/colab-badge.svg\" alt=\"Open In Colab\"/></a>"
      ]
    },
    {
      "cell_type": "markdown",
      "metadata": {
        "id": "-z0RByug4QSx",
        "colab_type": "text"
      },
      "source": [
        "#Imports"
      ]
    },
    {
      "cell_type": "code",
      "metadata": {
        "id": "Cb62Id8L4PU0",
        "colab_type": "code",
        "colab": {}
      },
      "source": [
        "import sklearn\n",
        "import numpy as np\n",
        "import random\n",
        "from tensorflow import keras\n",
        "import matplotlib.pyplot as plt\n",
        "from sklearn.metrics import accuracy_score\n",
        "from sklearn.linear_model import LogisticRegression\n",
        "from sklearn.preprocessing import StandardScaler"
      ],
      "execution_count": 0,
      "outputs": []
    },
    {
      "cell_type": "markdown",
      "metadata": {
        "id": "a98fvAGl4St8",
        "colab_type": "text"
      },
      "source": [
        "#Preprocessing"
      ]
    },
    {
      "cell_type": "code",
      "metadata": {
        "id": "FP1IBZOhb6DA",
        "colab_type": "code",
        "colab": {}
      },
      "source": [
        "mnist = keras.datasets.mnist\n",
        "(train_images, train_label), (test_images, test_label) = mnist.load_data()\n",
        "train_images = train_images / 255.0\n",
        "test_images = test_images / 255.0"
      ],
      "execution_count": 0,
      "outputs": []
    },
    {
      "cell_type": "code",
      "metadata": {
        "id": "oXS65gQWcR9_",
        "colab_type": "code",
        "outputId": "3655bee4-c1a4-4d2f-b4d1-440c2e5d67a1",
        "colab": {
          "base_uri": "https://localhost:8080/",
          "height": 34
        }
      },
      "source": [
        "train_images.shape"
      ],
      "execution_count": 0,
      "outputs": [
        {
          "output_type": "execute_result",
          "data": {
            "text/plain": [
              "(60000, 28, 28)"
            ]
          },
          "metadata": {
            "tags": []
          },
          "execution_count": 85
        }
      ]
    },
    {
      "cell_type": "code",
      "metadata": {
        "id": "RbdZCe5ggmfw",
        "colab_type": "code",
        "cellView": "code",
        "colab": {}
      },
      "source": [
        "train_images=(train_images).reshape(60000,784)\n",
        "test_images=(test_images).reshape(10000,784)"
      ],
      "execution_count": 0,
      "outputs": []
    },
    {
      "cell_type": "markdown",
      "metadata": {
        "id": "AW8Tr2u-4Y13",
        "colab_type": "text"
      },
      "source": [
        "#Model 1"
      ]
    },
    {
      "cell_type": "markdown",
      "metadata": {
        "id": "Sofica9iDnVQ",
        "colab_type": "text"
      },
      "source": [
        "*Circles or not*"
      ]
    },
    {
      "cell_type": "code",
      "metadata": {
        "id": "urPFY7jexAOA",
        "colab_type": "code",
        "colab": {}
      },
      "source": [
        "train_label_h1=np.empty([60000,])\n",
        "for i in range(60000):\n",
        "  if train_label[i]==1 or train_label[i]==2 or train_label[i]==3 or train_label[i]==4 or train_label[i]==5 or train_label[i]==7:    #||3||4||5||7\n",
        "    train_label_h1[i]=0\n",
        "  else:\n",
        "    train_label_h1[i]=1\n",
        "    \n",
        "test_label_h1=np.empty([10000,])\n",
        "for i in range(10000):\n",
        "  if test_label[i]==1 or test_label[i]==2 or test_label[i]==3 or test_label[i]==4 or test_label[i]==5 or test_label[i]==7:    #||3||4||5||7\n",
        "    test_label_h1[i]=0\n",
        "  else:\n",
        "    test_label_h1[i]=1"
      ],
      "execution_count": 0,
      "outputs": []
    },
    {
      "cell_type": "code",
      "metadata": {
        "id": "GKzM6Ye6lXWH",
        "colab_type": "code",
        "outputId": "68459669-b215-44cd-c3fc-98befaf88cbb",
        "colab": {
          "base_uri": "https://localhost:8080/",
          "height": 87
        }
      },
      "source": [
        "clf_1=LogisticRegression()\n",
        "clf_1.fit(train_images,train_label_h1)\n",
        "prediction=clf_1.predict(test_images)\n",
        "accuracy_score(prediction,test_label_h1)"
      ],
      "execution_count": 0,
      "outputs": [
        {
          "output_type": "stream",
          "text": [
            "/usr/local/lib/python3.6/dist-packages/sklearn/linear_model/logistic.py:432: FutureWarning: Default solver will be changed to 'lbfgs' in 0.22. Specify a solver to silence this warning.\n",
            "  FutureWarning)\n"
          ],
          "name": "stderr"
        },
        {
          "output_type": "execute_result",
          "data": {
            "text/plain": [
              "0.8746"
            ]
          },
          "metadata": {
            "tags": []
          },
          "execution_count": 88
        }
      ]
    },
    {
      "cell_type": "markdown",
      "metadata": {
        "id": "GrqKWSIAG4l0",
        "colab_type": "text"
      },
      "source": [
        "---------------------------------------------------------------------------------------------------------------------------------------------------\n",
        "---------------------------------------------------------------------------------------------------------------------------------------------------"
      ]
    },
    {
      "cell_type": "code",
      "metadata": {
        "id": "-djVVWY7G4R-",
        "colab_type": "code",
        "colab": {}
      },
      "source": [
        ""
      ],
      "execution_count": 0,
      "outputs": []
    },
    {
      "cell_type": "markdown",
      "metadata": {
        "id": "jqPkrAPS5xp8",
        "colab_type": "text"
      },
      "source": [
        "#Model 2"
      ]
    },
    {
      "cell_type": "markdown",
      "metadata": {
        "id": "_DEAdwfFbbfz",
        "colab_type": "text"
      },
      "source": [
        "*8 or 0*"
      ]
    },
    {
      "cell_type": "code",
      "metadata": {
        "id": "cSuYAJaGEfUR",
        "colab_type": "code",
        "colab": {}
      },
      "source": [
        "train_images_h2=np.empty([11774,784])\n",
        "test_images_h2=np.empty([1954,784])\n",
        "train_label_h2=np.empty([11774,])\n",
        "test_label_h2=np.empty([1954,])"
      ],
      "execution_count": 0,
      "outputs": []
    },
    {
      "cell_type": "code",
      "metadata": {
        "id": "CMXFoKXK9eX7",
        "colab_type": "code",
        "outputId": "aab43552-f56e-4807-a51a-ca0bff79bf4b",
        "colab": {
          "base_uri": "https://localhost:8080/",
          "height": 50
        }
      },
      "source": [
        "j=0\n",
        "for i in range(60000):\n",
        "  if train_label[i]==0:\n",
        "    train_label_h2[j]=0\n",
        "    train_images_h2[j]=train_images[i]\n",
        "    j=j+1\n",
        "  elif train_label[i]==8:\n",
        "    train_label_h2[j]=1\n",
        "    train_images_h2[j]=train_images[i]\n",
        "    j=j+1\n",
        "print(j)    \n",
        "j=0\n",
        "for i in range(10000):\n",
        "  if test_label[i]==0:   \n",
        "    test_label_h2[j]=0\n",
        "    test_images_h2[j]=test_images[i]\n",
        "    j=j+1\n",
        "  elif test_label[i]==8:\n",
        "    test_label_h2[j]=1\n",
        "    test_images_h2[j]=test_images[i]\n",
        "    j=j+1\n",
        "print(j)   "
      ],
      "execution_count": 0,
      "outputs": [
        {
          "output_type": "stream",
          "text": [
            "11774\n",
            "1954\n"
          ],
          "name": "stdout"
        }
      ]
    },
    {
      "cell_type": "code",
      "metadata": {
        "id": "MPFFJGi1-CUR",
        "colab_type": "code",
        "outputId": "00757518-cda7-42e8-be8e-ead72e41008e",
        "colab": {
          "base_uri": "https://localhost:8080/",
          "height": 101
        }
      },
      "source": [
        "clf_2=LogisticRegression(solver='lbfgs',max_iter=700)\n",
        "clf_2.fit(train_images_h2,train_label_h2)"
      ],
      "execution_count": 0,
      "outputs": [
        {
          "output_type": "execute_result",
          "data": {
            "text/plain": [
              "LogisticRegression(C=1.0, class_weight=None, dual=False, fit_intercept=True,\n",
              "                   intercept_scaling=1, l1_ratio=None, max_iter=700,\n",
              "                   multi_class='warn', n_jobs=None, penalty='l2',\n",
              "                   random_state=None, solver='lbfgs', tol=0.0001, verbose=0,\n",
              "                   warm_start=False)"
            ]
          },
          "metadata": {
            "tags": []
          },
          "execution_count": 91
        }
      ]
    },
    {
      "cell_type": "code",
      "metadata": {
        "id": "TKa9yshuGRP8",
        "colab_type": "code",
        "outputId": "0cc0ca82-e9d1-4de1-a848-8e7a49f00be2",
        "colab": {
          "base_uri": "https://localhost:8080/",
          "height": 34
        }
      },
      "source": [
        "prediction=clf_2.predict(test_images_h2)\n",
        "accuracy_score(prediction,test_label_h2)"
      ],
      "execution_count": 0,
      "outputs": [
        {
          "output_type": "execute_result",
          "data": {
            "text/plain": [
              "0.9928352098259979"
            ]
          },
          "metadata": {
            "tags": []
          },
          "execution_count": 92
        }
      ]
    },
    {
      "cell_type": "markdown",
      "metadata": {
        "id": "Go3XCtL76PbH",
        "colab_type": "text"
      },
      "source": [
        "#Model 3 (08 or 69)"
      ]
    },
    {
      "cell_type": "code",
      "metadata": {
        "id": "clQCRzzD6RYu",
        "colab_type": "code",
        "colab": {}
      },
      "source": [
        "train_images_h3=np.empty([23641,784])\n",
        "test_images_h3=np.empty([3921,784])\n",
        "train_label_h3=np.empty([23641,])\n",
        "test_label_h3=np.empty([3921,])"
      ],
      "execution_count": 0,
      "outputs": []
    },
    {
      "cell_type": "code",
      "metadata": {
        "id": "jiIl8QPk6dhq",
        "colab_type": "code",
        "outputId": "fa909f69-a01b-408d-e16d-1862d9adb3f7",
        "colab": {
          "base_uri": "https://localhost:8080/",
          "height": 50
        }
      },
      "source": [
        "j=0\n",
        "for i in range(60000):\n",
        "  if train_label[i]==0 or train_label[i]==8:   \n",
        "    train_label_h3[j]=0\n",
        "    train_images_h3[j]=train_images[i]\n",
        "    j=j+1\n",
        "  elif train_label[i]==6 or train_label[i]==9:\n",
        "    train_label_h3[j]=1\n",
        "    train_images_h3[j]=train_images[i]\n",
        "    j=j+1\n",
        "print(j)    \n",
        "j=0\n",
        "for i in range(10000):\n",
        "  if test_label[i]==0 or test_label[i]==8:   \n",
        "    test_label_h3[j]=0\n",
        "    test_images_h3[j]=test_images[i]\n",
        "    j=j+1\n",
        "  elif test_label[i]==6 or test_label[i]==9:\n",
        "    test_label_h3[j]=1\n",
        "    test_images_h3[j]=test_images[i]\n",
        "    j=j+1\n",
        "print(j)  "
      ],
      "execution_count": 0,
      "outputs": [
        {
          "output_type": "stream",
          "text": [
            "23641\n",
            "3921\n"
          ],
          "name": "stdout"
        }
      ]
    },
    {
      "cell_type": "code",
      "metadata": {
        "id": "vCkuqVlO7oVJ",
        "colab_type": "code",
        "outputId": "f9847936-6e45-4883-fca9-5077e2c773b5",
        "colab": {
          "base_uri": "https://localhost:8080/",
          "height": 87
        }
      },
      "source": [
        "clf_3=LogisticRegression()\n",
        "clf_3.fit(train_images_h3,train_label_h3)\n",
        "prediction=clf_3.predict(test_images_h3)\n",
        "accuracy_score(prediction,test_label_h3)"
      ],
      "execution_count": 0,
      "outputs": [
        {
          "output_type": "stream",
          "text": [
            "/usr/local/lib/python3.6/dist-packages/sklearn/linear_model/logistic.py:432: FutureWarning: Default solver will be changed to 'lbfgs' in 0.22. Specify a solver to silence this warning.\n",
            "  FutureWarning)\n"
          ],
          "name": "stderr"
        },
        {
          "output_type": "execute_result",
          "data": {
            "text/plain": [
              "0.9668451925529201"
            ]
          },
          "metadata": {
            "tags": []
          },
          "execution_count": 95
        }
      ]
    },
    {
      "cell_type": "markdown",
      "metadata": {
        "id": "A74-kAvr-NId",
        "colab_type": "text"
      },
      "source": [
        "#Model4"
      ]
    },
    {
      "cell_type": "markdown",
      "metadata": {
        "id": "B4Lgar6B-bOD",
        "colab_type": "text"
      },
      "source": [
        "*6 or 9*"
      ]
    },
    {
      "cell_type": "code",
      "metadata": {
        "id": "oFtazZN_-OiJ",
        "colab_type": "code",
        "colab": {}
      },
      "source": [
        "train_images_h4=np.empty([11867,784])\n",
        "test_images_h4=np.empty([1967,784])\n",
        "train_label_h4=np.empty([11867,])\n",
        "test_label_h4=np.empty([1967,])"
      ],
      "execution_count": 0,
      "outputs": []
    },
    {
      "cell_type": "code",
      "metadata": {
        "id": "xZzALZts-Ono",
        "colab_type": "code",
        "outputId": "51aea1bf-8452-4288-b4d1-7af67cc47882",
        "colab": {
          "base_uri": "https://localhost:8080/",
          "height": 50
        }
      },
      "source": [
        "j=0\n",
        "for i in range(60000):\n",
        "  if train_label[i]==6:   \n",
        "    train_label_h4[j]=0\n",
        "    train_images_h4[j]=train_images[i]\n",
        "    j=j+1\n",
        "  elif train_label[i]==9:\n",
        "    train_label_h4[j]=1\n",
        "    train_images_h4[j]=train_images[i]\n",
        "    j=j+1\n",
        "print(j)    \n",
        "j=0\n",
        "for i in range(10000):\n",
        "  if test_label[i]==6:   \n",
        "    test_label_h4[j]=0\n",
        "    test_images_h4[j]=test_images[i]\n",
        "    j=j+1\n",
        "  elif test_label[i]==9:\n",
        "    test_label_h4[j]=1\n",
        "    test_images_h4[j]=test_images[i]\n",
        "    j=j+1\n",
        "print(j)   "
      ],
      "execution_count": 0,
      "outputs": [
        {
          "output_type": "stream",
          "text": [
            "11867\n",
            "1967\n"
          ],
          "name": "stdout"
        }
      ]
    },
    {
      "cell_type": "code",
      "metadata": {
        "id": "px48p6r2-g2S",
        "colab_type": "code",
        "outputId": "a18427f4-b84c-4c74-accc-cc899c966d1f",
        "colab": {
          "base_uri": "https://localhost:8080/",
          "height": 87
        }
      },
      "source": [
        "clf_4=LogisticRegression()\n",
        "clf_4.fit(train_images_h4,train_label_h4)\n",
        "prediction=clf_4.predict(test_images_h4)\n",
        "accuracy_score(prediction,test_label_h4)"
      ],
      "execution_count": 0,
      "outputs": [
        {
          "output_type": "stream",
          "text": [
            "/usr/local/lib/python3.6/dist-packages/sklearn/linear_model/logistic.py:432: FutureWarning: Default solver will be changed to 'lbfgs' in 0.22. Specify a solver to silence this warning.\n",
            "  FutureWarning)\n"
          ],
          "name": "stderr"
        },
        {
          "output_type": "execute_result",
          "data": {
            "text/plain": [
              "0.99644128113879"
            ]
          },
          "metadata": {
            "tags": []
          },
          "execution_count": 98
        }
      ]
    },
    {
      "cell_type": "markdown",
      "metadata": {
        "id": "qWWtYDKU-qsX",
        "colab_type": "text"
      },
      "source": [
        "#Model 5"
      ]
    },
    {
      "cell_type": "markdown",
      "metadata": {
        "id": "al7Hr6jA-xcH",
        "colab_type": "text"
      },
      "source": [
        "*147 or 235*"
      ]
    },
    {
      "cell_type": "code",
      "metadata": {
        "id": "HL7NgmD_-2XE",
        "colab_type": "code",
        "colab": {}
      },
      "source": [
        "train_no=36359\n",
        "test_no=6079\n",
        "train_images_h5=np.empty([train_no,784])\n",
        "test_images_h5=np.empty([test_no,784])\n",
        "train_label_h5=np.empty([train_no,])\n",
        "test_label_h5=np.empty([test_no,])"
      ],
      "execution_count": 0,
      "outputs": []
    },
    {
      "cell_type": "code",
      "metadata": {
        "id": "pmKfnE5w-9VD",
        "colab_type": "code",
        "outputId": "d14ed95d-b215-475b-8294-756fc0a603d6",
        "colab": {
          "base_uri": "https://localhost:8080/",
          "height": 50
        }
      },
      "source": [
        "j=0\n",
        "for i in range(60000):\n",
        "  if train_label[i]==1 or train_label[i]==4 or train_label[i]==7:   \n",
        "    train_label_h5[j]=0\n",
        "    train_images_h5[j]=train_images[i]\n",
        "    j=j+1\n",
        "  elif train_label[i]==2 or train_label[i]==3 or train_label[i]==5:\n",
        "    train_label_h5[j]=1\n",
        "    train_images_h5[j]=train_images[i]\n",
        "    j=j+1\n",
        "print(j)    \n",
        "j=0\n",
        "for i in range(10000):\n",
        "  if test_label[i]==1 or test_label[i]==4 or test_label[i]==7:   \n",
        "    test_label_h5[j]=0\n",
        "    test_images_h5[j]=test_images[i]\n",
        "    j=j+1\n",
        "  elif test_label[i]==2 or test_label[i]==3 or test_label[i]==5:\n",
        "    test_label_h5[j]=1\n",
        "    test_images_h5[j]=test_images[i]\n",
        "    j=j+1\n",
        "print(j)   "
      ],
      "execution_count": 0,
      "outputs": [
        {
          "output_type": "stream",
          "text": [
            "36359\n",
            "6079\n"
          ],
          "name": "stdout"
        }
      ]
    },
    {
      "cell_type": "code",
      "metadata": {
        "id": "ipYpFfyF-_oc",
        "colab_type": "code",
        "outputId": "3aee39bf-6ba4-44d9-c30e-467e98bc3c17",
        "colab": {
          "base_uri": "https://localhost:8080/",
          "height": 67
        }
      },
      "source": [
        "clf_5=LogisticRegression(solver='lbfgs')\n",
        "clf_5.fit(train_images_h5,train_label_h5)\n",
        "prediction=clf_5.predict(test_images_h5)\n",
        "accuracy_score(prediction,test_label_h5)"
      ],
      "execution_count": 0,
      "outputs": [
        {
          "output_type": "stream",
          "text": [
            "/usr/local/lib/python3.6/dist-packages/sklearn/linear_model/logistic.py:947: ConvergenceWarning: lbfgs failed to converge. Increase the number of iterations.\n",
            "  \"of iterations.\", ConvergenceWarning)\n"
          ],
          "name": "stderr"
        },
        {
          "output_type": "execute_result",
          "data": {
            "text/plain": [
              "0.9685803586116137"
            ]
          },
          "metadata": {
            "tags": []
          },
          "execution_count": 101
        }
      ]
    },
    {
      "cell_type": "markdown",
      "metadata": {
        "id": "FqgDI3rzFAJ2",
        "colab_type": "text"
      },
      "source": [
        "#Model 6"
      ]
    },
    {
      "cell_type": "markdown",
      "metadata": {
        "id": "nRfZGQl6FB8v",
        "colab_type": "text"
      },
      "source": [
        "*Multiclass 147*"
      ]
    },
    {
      "cell_type": "code",
      "metadata": {
        "id": "B6bofFekFElH",
        "colab_type": "code",
        "colab": {}
      },
      "source": [
        "train_no=18849\n",
        "test_no=2972\n",
        "train_images_h6=np.empty([train_no,784])\n",
        "test_images_h6=np.empty([test_no,784])\n",
        "train_label_h6=np.empty([train_no,])\n",
        "test_label_h6=np.empty([test_no,])"
      ],
      "execution_count": 0,
      "outputs": []
    },
    {
      "cell_type": "code",
      "metadata": {
        "id": "gS4h046OFJ-U",
        "colab_type": "code",
        "outputId": "2ca5e60b-84d7-45b7-ec29-681e07188d82",
        "colab": {
          "base_uri": "https://localhost:8080/",
          "height": 50
        }
      },
      "source": [
        "j=0\n",
        "for i in range(60000):\n",
        "  if train_label[i]==1:   \n",
        "    train_label_h6[j]=0\n",
        "    train_images_h6[j]=train_images[i]\n",
        "    j=j+1\n",
        "  elif train_label[i]==4:\n",
        "    train_label_h6[j]=1\n",
        "    train_images_h6[j]=train_images[i]\n",
        "    j=j+1\n",
        "  elif  train_label[i]==7:\n",
        "    train_label_h6[j]=2\n",
        "    train_images_h6[j]=train_images[i]\n",
        "    j=j+1\n",
        "print(j)    \n",
        "j=0\n",
        "for i in range(10000):\n",
        "  if test_label[i]==1:   \n",
        "    test_label_h6[j]=0\n",
        "    test_images_h6[j]=test_images[i]\n",
        "    j=j+1\n",
        "  elif test_label[i]==4:\n",
        "    test_label_h6[j]=1\n",
        "    test_images_h6[j]=test_images[i]\n",
        "    j=j+1\n",
        "  elif  train_label[i]==7:\n",
        "    test_label_h6[j]=2\n",
        "    test_images_h6[j]=test_images[i]\n",
        "    j=j+1\n",
        "print(j)"
      ],
      "execution_count": 0,
      "outputs": [
        {
          "output_type": "stream",
          "text": [
            "18849\n",
            "2972\n"
          ],
          "name": "stdout"
        }
      ]
    },
    {
      "cell_type": "code",
      "metadata": {
        "id": "lTbKV-x2FM2N",
        "colab_type": "code",
        "outputId": "01819b67-aaae-4719-d441-d1a8e0fb1f7a",
        "colab": {
          "base_uri": "https://localhost:8080/",
          "height": 322
        }
      },
      "source": [
        "clf_6=LogisticRegression(solver='lbfgs')\n",
        "clf_6.fit(train_images_h6,train_label_h6)\n",
        "prediction=clf_6.predict(test_images_h6)\n",
        "accuracy_score(prediction,test_label_h6)"
      ],
      "execution_count": 0,
      "outputs": [
        {
          "output_type": "stream",
          "text": [
            "/usr/local/lib/python3.6/dist-packages/sklearn/linear_model/logistic.py:469: FutureWarning: Default multi_class will be changed to 'auto' in 0.22. Specify the multi_class option to silence this warning.\n",
            "  \"this warning.\", FutureWarning)\n",
            "/usr/local/lib/python3.6/dist-packages/sklearn/linear_model/logistic.py:947: ConvergenceWarning: lbfgs failed to converge. Increase the number of iterations.\n",
            "  \"of iterations.\", ConvergenceWarning)\n",
            "/usr/local/lib/python3.6/dist-packages/sklearn/linear_model/logistic.py:947: ConvergenceWarning: lbfgs failed to converge. Increase the number of iterations.\n",
            "  \"of iterations.\", ConvergenceWarning)\n",
            "/usr/local/lib/python3.6/dist-packages/sklearn/linear_model/logistic.py:947: ConvergenceWarning: lbfgs failed to converge. Increase the number of iterations.\n",
            "  \"of iterations.\", ConvergenceWarning)\n"
          ],
          "name": "stderr"
        },
        {
          "output_type": "execute_result",
          "data": {
            "text/plain": [
              "0.8162853297442799"
            ]
          },
          "metadata": {
            "tags": []
          },
          "execution_count": 68
        },
        {
          "output_type": "stream",
          "text": [
            "/usr/local/lib/python3.6/dist-packages/sklearn/linear_model/logistic.py:469: FutureWarning: Default multi_class will be changed to 'auto' in 0.22. Specify the multi_class option to silence this warning.\n",
            "  \"this warning.\", FutureWarning)\n",
            "/usr/local/lib/python3.6/dist-packages/sklearn/linear_model/logistic.py:947: ConvergenceWarning: lbfgs failed to converge. Increase the number of iterations.\n",
            "  \"of iterations.\", ConvergenceWarning)\n",
            "/usr/local/lib/python3.6/dist-packages/sklearn/linear_model/logistic.py:947: ConvergenceWarning: lbfgs failed to converge. Increase the number of iterations.\n",
            "  \"of iterations.\", ConvergenceWarning)\n",
            "/usr/local/lib/python3.6/dist-packages/sklearn/linear_model/logistic.py:947: ConvergenceWarning: lbfgs failed to converge. Increase the number of iterations.\n",
            "  \"of iterations.\", ConvergenceWarning)\n"
          ],
          "name": "stderr"
        },
        {
          "output_type": "execute_result",
          "data": {
            "text/plain": [
              "0.8162853297442799"
            ]
          },
          "metadata": {
            "tags": []
          },
          "execution_count": 104
        }
      ]
    },
    {
      "cell_type": "markdown",
      "metadata": {
        "id": "lq0qXUQpbiIW",
        "colab_type": "text"
      },
      "source": [
        "#Model  7\n"
      ]
    },
    {
      "cell_type": "markdown",
      "metadata": {
        "id": "7ASXcPJsbjlw",
        "colab_type": "text"
      },
      "source": [
        "*Multiclass 235*"
      ]
    },
    {
      "cell_type": "code",
      "metadata": {
        "id": "LQ24PKUCbmUe",
        "colab_type": "code",
        "colab": {}
      },
      "source": [
        "train_no=17510\n",
        "test_no=2722\n",
        "train_images_h7=np.empty([train_no,784])\n",
        "test_images_h7=np.empty([test_no,784])\n",
        "train_label_h7=np.empty([train_no,])\n",
        "test_label_h7=np.empty([test_no,])"
      ],
      "execution_count": 0,
      "outputs": []
    },
    {
      "cell_type": "code",
      "metadata": {
        "id": "CeShvFHTbqSJ",
        "colab_type": "code",
        "outputId": "151a4c8a-5037-43a0-b66c-bece021e39b2",
        "colab": {
          "base_uri": "https://localhost:8080/",
          "height": 84
        }
      },
      "source": [
        "j=0\n",
        "for i in range(60000):\n",
        "  if train_label[i]==2:   \n",
        "    train_label_h7[j]=0\n",
        "    train_images_h7[j]=train_images[i]\n",
        "    j=j+1\n",
        "  elif train_label[i]==3:\n",
        "    train_label_h7[j]=1\n",
        "    train_images_h7[j]=train_images[i]\n",
        "    j=j+1\n",
        "  elif  train_label[i]==5:\n",
        "    train_label_h7[j]=2\n",
        "    train_images_h7[j]=train_images[i]\n",
        "    j=j+1\n",
        "print(j)    \n",
        "j=0\n",
        "for i in range(10000):\n",
        "  if test_label[i]==2:   \n",
        "    test_label_h7[j]=0\n",
        "    test_images_h7[j]=test_images[i]\n",
        "    j=j+1\n",
        "  elif test_label[i]==3:\n",
        "    test_label_h7[j]=1\n",
        "    test_images_h7[j]=test_images[i]\n",
        "    j=j+1\n",
        "  elif  train_label[i]==5:\n",
        "    test_label_h7[j]=2\n",
        "    test_images_h7[j]=test_images[i]\n",
        "    j=j+1\n",
        "print(j)"
      ],
      "execution_count": 0,
      "outputs": [
        {
          "output_type": "stream",
          "text": [
            "17510\n",
            "2722\n",
            "17510\n",
            "2722\n"
          ],
          "name": "stdout"
        }
      ]
    },
    {
      "cell_type": "code",
      "metadata": {
        "id": "Vss9z7fMbxbV",
        "colab_type": "code",
        "outputId": "03c5d042-55fd-4141-8f0c-0698f930c85e",
        "colab": {
          "base_uri": "https://localhost:8080/",
          "height": 322
        }
      },
      "source": [
        "clf_7=LogisticRegression(solver='lbfgs',max_iter=70)\n",
        "clf_7.fit(train_images_h7,train_label_h7)\n",
        "prediction=clf_7.predict(test_images_h7)\n",
        "accuracy_score(prediction,test_label_h7)"
      ],
      "execution_count": 0,
      "outputs": [
        {
          "output_type": "stream",
          "text": [
            "/usr/local/lib/python3.6/dist-packages/sklearn/linear_model/logistic.py:469: FutureWarning: Default multi_class will be changed to 'auto' in 0.22. Specify the multi_class option to silence this warning.\n",
            "  \"this warning.\", FutureWarning)\n",
            "/usr/local/lib/python3.6/dist-packages/sklearn/linear_model/logistic.py:947: ConvergenceWarning: lbfgs failed to converge. Increase the number of iterations.\n",
            "  \"of iterations.\", ConvergenceWarning)\n",
            "/usr/local/lib/python3.6/dist-packages/sklearn/linear_model/logistic.py:947: ConvergenceWarning: lbfgs failed to converge. Increase the number of iterations.\n",
            "  \"of iterations.\", ConvergenceWarning)\n",
            "/usr/local/lib/python3.6/dist-packages/sklearn/linear_model/logistic.py:947: ConvergenceWarning: lbfgs failed to converge. Increase the number of iterations.\n",
            "  \"of iterations.\", ConvergenceWarning)\n"
          ],
          "name": "stderr"
        },
        {
          "output_type": "execute_result",
          "data": {
            "text/plain": [
              "0.8251285819250551"
            ]
          },
          "metadata": {
            "tags": []
          },
          "execution_count": 71
        },
        {
          "output_type": "stream",
          "text": [
            "/usr/local/lib/python3.6/dist-packages/sklearn/linear_model/logistic.py:469: FutureWarning: Default multi_class will be changed to 'auto' in 0.22. Specify the multi_class option to silence this warning.\n",
            "  \"this warning.\", FutureWarning)\n",
            "/usr/local/lib/python3.6/dist-packages/sklearn/linear_model/logistic.py:947: ConvergenceWarning: lbfgs failed to converge. Increase the number of iterations.\n",
            "  \"of iterations.\", ConvergenceWarning)\n",
            "/usr/local/lib/python3.6/dist-packages/sklearn/linear_model/logistic.py:947: ConvergenceWarning: lbfgs failed to converge. Increase the number of iterations.\n",
            "  \"of iterations.\", ConvergenceWarning)\n",
            "/usr/local/lib/python3.6/dist-packages/sklearn/linear_model/logistic.py:947: ConvergenceWarning: lbfgs failed to converge. Increase the number of iterations.\n",
            "  \"of iterations.\", ConvergenceWarning)\n"
          ],
          "name": "stderr"
        },
        {
          "output_type": "execute_result",
          "data": {
            "text/plain": [
              "0.8251285819250551"
            ]
          },
          "metadata": {
            "tags": []
          },
          "execution_count": 107
        }
      ]
    },
    {
      "cell_type": "markdown",
      "metadata": {
        "id": "cs4F4YW_lQt9",
        "colab_type": "text"
      },
      "source": [
        "#Predictions"
      ]
    },
    {
      "cell_type": "code",
      "metadata": {
        "id": "YKMD-yl1clis",
        "colab_type": "code",
        "colab": {}
      },
      "source": [
        "def predict_for_one(k):\n",
        "  if clf_1.predict(test_images[k-1:k])==0:\n",
        "    print(\"It doesn't have a circle\")\n",
        "    if  clf_5.predict(test_images[k-1:k])==0:\n",
        "      print(\"It has straight lines\")\n",
        "      if clf_6.predict(test_images[k-1:k])==0:\n",
        "        print(\"It is 1\")\n",
        "      elif clf_6.predict(test_images[k-1:k])==1:\n",
        "        print(\"It is 4\")\n",
        "      else:\n",
        "        print(\"It is 7\")\n",
        "    else:\n",
        "      print(\"It has curves\")\n",
        "      if clf_7.predict(test_images[k-1:k])==0:\n",
        "        print(\"It is 2\")\n",
        "      elif clf_7.predict(test_images[k-1:k])==1:\n",
        "        print(\"It is 3\")\n",
        "      else:\n",
        "        print(\"It is 5\")\n",
        "\n",
        "  else:\n",
        "    print(\"It has a circle\")\n",
        "    if clf_2.predict(test_images[k-1:k])==0:\n",
        "      print(\"It is 0 or 8\")\n",
        "      if clf_3.predict(test_images[k-1:k])==0:\n",
        "        print(\"It is 0\")\n",
        "      else:\n",
        "        print(\"It is 8\")\n",
        "    else:\n",
        "      print(\"It is 6 or 9\")\n",
        "      if clf_4.predict(test_images[k-1:k])==0:\n",
        "        print(\"It is 6\")\n",
        "      else:\n",
        "        print(\"It is 9\")\n",
        "  print()"
      ],
      "execution_count": 0,
      "outputs": []
    },
    {
      "cell_type": "code",
      "metadata": {
        "id": "5B15u8jzczVk",
        "colab_type": "code",
        "outputId": "8b5328fb-8a6d-479e-d611-b6f9b61c8dca",
        "colab": {
          "base_uri": "https://localhost:8080/",
          "height": 1361
        }
      },
      "source": [
        "for k in range(9,19):\n",
        "  predict_for_one(k)"
      ],
      "execution_count": 0,
      "outputs": [
        {
          "output_type": "stream",
          "text": [
            "It doesn't have a circle\n",
            "It has straight lines\n",
            "It is 4\n",
            "\n",
            "It has a circle\n",
            "It is 6 or 9\n",
            "It is 9\n",
            "\n",
            "It has a circle\n",
            "It is 0 or 8\n",
            "It is 0\n",
            "\n",
            "It has a circle\n",
            "It is 0 or 8\n",
            "It is 8\n",
            "\n",
            "It has a circle\n",
            "It is 6 or 9\n",
            "It is 9\n",
            "\n",
            "It has a circle\n",
            "It is 0 or 8\n",
            "It is 0\n",
            "\n",
            "It doesn't have a circle\n",
            "It has straight lines\n",
            "It is 1\n",
            "\n",
            "It doesn't have a circle\n",
            "It has curves\n",
            "It is 5\n",
            "\n",
            "It has a circle\n",
            "It is 6 or 9\n",
            "It is 9\n",
            "\n",
            "It doesn't have a circle\n",
            "It has straight lines\n",
            "It is 7\n",
            "\n",
            "It doesn't have a circle\n",
            "It has straight lines\n",
            "It is 4\n",
            "\n",
            "It has a circle\n",
            "It is 6 or 9\n",
            "It is 9\n",
            "\n",
            "It has a circle\n",
            "It is 0 or 8\n",
            "It is 0\n",
            "\n",
            "It has a circle\n",
            "It is 0 or 8\n",
            "It is 8\n",
            "\n",
            "It has a circle\n",
            "It is 6 or 9\n",
            "It is 9\n",
            "\n",
            "It has a circle\n",
            "It is 0 or 8\n",
            "It is 0\n",
            "\n",
            "It doesn't have a circle\n",
            "It has straight lines\n",
            "It is 1\n",
            "\n",
            "It doesn't have a circle\n",
            "It has curves\n",
            "It is 5\n",
            "\n",
            "It has a circle\n",
            "It is 6 or 9\n",
            "It is 9\n",
            "\n",
            "It doesn't have a circle\n",
            "It has straight lines\n",
            "It is 7\n",
            "\n"
          ],
          "name": "stdout"
        }
      ]
    },
    {
      "cell_type": "code",
      "metadata": {
        "id": "FZ93EElXftSQ",
        "colab_type": "code",
        "colab": {}
      },
      "source": [
        "ar=np.empty([10000])\n",
        "def predict(ar,m):\n",
        "  if clf_1.predict(test_images[m-1:m])==0:\n",
        "    #print(\"It doesn't have a circle\")\n",
        "    if  clf_5.predict(test_images[m-1:m])==0:\n",
        "      #print(\"It has straight lines\")\n",
        "      if clf_6.predict(test_images[m-1:m])==0:\n",
        "        ar[m-1]=1\n",
        "      elif clf_6.predict(test_images[m-1:m])==1:\n",
        "        ar[m-1]=4\n",
        "      else:\n",
        "        ar[m-1]=7\n",
        "    else:\n",
        "      if clf_7.predict(test_images[m-1:m])==0:\n",
        "        ar[m-1]=2\n",
        "      elif clf_7.predict(test_images[m-1:m])==1:\n",
        "        ar[m-1]=3\n",
        "      else:\n",
        "        ar[m-1]=5\n",
        "\n",
        "  else:\n",
        "    \n",
        "    if clf_3.predict(test_images[m-1:m])==0:\n",
        "      \n",
        "      if clf_2.predict(test_images[m-1:m])==0:\n",
        "        ar[m-1]=0\n",
        "      else:\n",
        "        ar[m-1]=8\n",
        "    else:\n",
        "      \n",
        "      if clf_4.predict(test_images[m-1:m])==0:\n",
        "        ar[m-1]=6\n",
        "      else:\n",
        "        ar[m-1]=9"
      ],
      "execution_count": 0,
      "outputs": []
    },
    {
      "cell_type": "code",
      "metadata": {
        "id": "HZwyWNHohA7B",
        "colab_type": "code",
        "colab": {}
      },
      "source": [
        "ar=np.empty([10000])\n",
        "for i in range(1,10001):\n",
        "  predict(ar,i)"
      ],
      "execution_count": 0,
      "outputs": []
    },
    {
      "cell_type": "code",
      "metadata": {
        "id": "2dDKZy4ahXfB",
        "colab_type": "code",
        "outputId": "e7db0ad0-af4d-4a7f-d212-0f5c9686266a",
        "colab": {
          "base_uri": "https://localhost:8080/",
          "height": 34
        }
      },
      "source": [
        "ar"
      ],
      "execution_count": 0,
      "outputs": [
        {
          "output_type": "execute_result",
          "data": {
            "text/plain": [
              "array([7., 2., 1., ..., 4., 5., 6.])"
            ]
          },
          "metadata": {
            "tags": []
          },
          "execution_count": 76
        },
        {
          "output_type": "execute_result",
          "data": {
            "text/plain": [
              "array([7., 2., 1., ..., 4., 5., 6.])"
            ]
          },
          "metadata": {
            "tags": []
          },
          "execution_count": 112
        }
      ]
    },
    {
      "cell_type": "code",
      "metadata": {
        "id": "XMSXp3ywhG9c",
        "colab_type": "code",
        "outputId": "a0e274e2-28e2-4e1f-f9c3-4813bea44dd0",
        "colab": {
          "base_uri": "https://localhost:8080/",
          "height": 34
        }
      },
      "source": [
        "from sklearn.metrics import accuracy_score,confusion_matrix\n",
        "accuracy_score(ar,test_label)"
      ],
      "execution_count": 0,
      "outputs": [
        {
          "output_type": "execute_result",
          "data": {
            "text/plain": [
              "0.8393"
            ]
          },
          "metadata": {
            "tags": []
          },
          "execution_count": 77
        },
        {
          "output_type": "execute_result",
          "data": {
            "text/plain": [
              "0.8393"
            ]
          },
          "metadata": {
            "tags": []
          },
          "execution_count": 113
        }
      ]
    },
    {
      "cell_type": "code",
      "metadata": {
        "id": "-JBdAHFGkqVZ",
        "colab_type": "code",
        "outputId": "14bd8fd8-93d0-4fb2-a3b9-82f5cd774c5b",
        "colab": {
          "base_uri": "https://localhost:8080/",
          "height": 336
        }
      },
      "source": [
        "confusion_matrix(ar,test_label)"
      ],
      "execution_count": 0,
      "outputs": [
        {
          "output_type": "execute_result",
          "data": {
            "text/plain": [
              "array([[ 875,    0,   34,   10,    2,   20,   18,    7,    8,    4],\n",
              "       [   1, 1096,   11,    4,    0,    5,    6,    9,   30,    7],\n",
              "       [  21,    8,  831,   12,   10,    5,   38,   19,   35,    2],\n",
              "       [   7,    6,   14,  916,    3,   35,    1,    8,   75,   13],\n",
              "       [   1,    0,   17,    4,  831,   14,   24,   11,   22,  101],\n",
              "       [  50,    0,    9,   18,    1,  677,   27,    1,   73,    8],\n",
              "       [  15,    2,   39,    1,   36,   20,  836,    0,   16,    2],\n",
              "       [   5,    1,   13,   19,    2,    6,    4,  911,   18,  133],\n",
              "       [   1,   22,   61,   18,    4,   83,    3,   10,  693,   12],\n",
              "       [   4,    0,    3,    8,   93,   27,    1,   52,    4,  727]])"
            ]
          },
          "metadata": {
            "tags": []
          },
          "execution_count": 78
        },
        {
          "output_type": "execute_result",
          "data": {
            "text/plain": [
              "array([[ 875,    0,   34,   10,    2,   20,   18,    7,    8,    4],\n",
              "       [   1, 1096,   11,    4,    0,    5,    6,    9,   30,    7],\n",
              "       [  21,    8,  831,   12,   10,    5,   38,   19,   35,    2],\n",
              "       [   7,    6,   14,  916,    3,   35,    1,    8,   75,   13],\n",
              "       [   1,    0,   17,    4,  831,   14,   24,   11,   22,  101],\n",
              "       [  50,    0,    9,   18,    1,  677,   27,    1,   73,    8],\n",
              "       [  15,    2,   39,    1,   36,   20,  836,    0,   16,    2],\n",
              "       [   5,    1,   13,   19,    2,    6,    4,  911,   18,  133],\n",
              "       [   1,   22,   61,   18,    4,   83,    3,   10,  693,   12],\n",
              "       [   4,    0,    3,    8,   93,   27,    1,   52,    4,  727]])"
            ]
          },
          "metadata": {
            "tags": []
          },
          "execution_count": 114
        }
      ]
    },
    {
      "cell_type": "markdown",
      "metadata": {
        "id": "bT0RwI4KCD1O",
        "colab_type": "text"
      },
      "source": [
        "#Adversaries"
      ]
    },
    {
      "cell_type": "code",
      "metadata": {
        "id": "RgNXrcOFCDf7",
        "colab_type": "code",
        "colab": {}
      },
      "source": [
        "test=np.empty([10000,784])\n",
        "for i in range(10000):\n",
        "  for j in range(784):\n",
        "    test[i][j]=test_images[i][j]\n",
        "    \n",
        "def distort(distortion,i):\n",
        "  dist_test=np.empty([784])\n",
        "  for j in range(784):\n",
        "    dist_test[j]=test[i][j]\n",
        "  s=np.random.choice(784, (int)(784*distortion),replace=False)\n",
        "  for k in s:\n",
        "    dist_test[k]=random.randint(0,254)/255\n",
        "  return dist_test\n",
        "\n",
        "def predict():\n",
        "  predictedarr=np.empty(10000)\n",
        "  for j in range(10000):\n",
        "    arr=(model.predict(dist_test[j].reshape(1,28,28))[0])\n",
        "    for i in range (10):\n",
        "      if max(arr)==arr[i]:\n",
        "        predictedarr[j]=i\n",
        "  return predictedarr"
      ],
      "execution_count": 0,
      "outputs": []
    },
    {
      "cell_type": "code",
      "metadata": {
        "id": "hyPdY8FGsJXb",
        "colab_type": "code",
        "colab": {}
      },
      "source": [
        "def predictadv(ar,m):\n",
        "  if clf_1.predict(dist_test[m-1:m])==0:\n",
        "    #print(\"It doesn't have a circle\")\n",
        "    if  clf_5.predict(dist_test[m-1:m])==0:\n",
        "      #print(\"It has straight lines\")\n",
        "      if clf_6.predict(dist_test[m-1:m])==0:\n",
        "        ar[m-1]=1\n",
        "      elif clf_6.predict(dist_test[m-1:m])==1:\n",
        "        ar[m-1]=4\n",
        "      else:\n",
        "        ar[m-1]=7\n",
        "    else:\n",
        "      if clf_7.predict(dist_test[m-1:m])==0:\n",
        "        ar[m-1]=2\n",
        "      elif clf_7.predict(dist_test[m-1:m])==1:\n",
        "        ar[m-1]=3\n",
        "      else:\n",
        "        ar[m-1]=5\n",
        "\n",
        "  else:\n",
        "    \n",
        "    if clf_3.predict(dist_test[m-1:m])==0:\n",
        "      \n",
        "      if clf_2.predict(dist_test[m-1:m])==0:\n",
        "        ar[m-1]=0\n",
        "      else:\n",
        "        ar[m-1]=8\n",
        "    else:\n",
        "      \n",
        "      if clf_4.predict(dist_test[m-1:m])==0:\n",
        "        ar[m-1]=6\n",
        "      else:\n",
        "        ar[m-1]=9"
      ],
      "execution_count": 0,
      "outputs": []
    },
    {
      "cell_type": "code",
      "metadata": {
        "id": "9t4SbS9hI87S",
        "colab_type": "code",
        "colab": {}
      },
      "source": [
        "def plot_confusion_matrix(cm, names, title='Confusion matrix', cmap=plt.cm.Blues):\n",
        "    plt.imshow(cm, interpolation='nearest', cmap=cmap)\n",
        "    plt.title(title)\n",
        "    plt.colorbar()\n",
        "    tick_marks = np.arange(len(names))\n",
        "    plt.xticks(tick_marks, names)\n",
        "    plt.yticks(tick_marks, names)\n",
        "    plt.tight_layout()\n",
        "    plt.ylabel('True label')\n",
        "    plt.xlabel('Predicted label')\n",
        "def colourmat(pred,test_label):\n",
        "  cm = confusion_matrix(pred, test_label)\n",
        "  np.set_printoptions(precision=2)\n",
        "  print('Confusion matrix')\n",
        "  print(cm)\n",
        "  plt.figure()\n",
        "  plot_confusion_matrix(cm,np.unique(test_label), title='Confusion matrix')\n",
        "  plt.show()\n"
      ],
      "execution_count": 0,
      "outputs": []
    },
    {
      "cell_type": "code",
      "metadata": {
        "id": "Jv5FRlDBwtjW",
        "colab_type": "code",
        "outputId": "631efc63-9430-4792-9338-503d46387efa",
        "colab": {
          "base_uri": "https://localhost:8080/",
          "height": 5649
        }
      },
      "source": [
        "distortion_list=[0,0.01,0.05,0.1,0.15,0.2,0.3,0.35,0.4,0.7]\n",
        "acc=[]\n",
        "for j,distortion in enumerate(distortion_list):\n",
        "  dist_test=np.empty([10000,784])\n",
        "  for i in range(10000):\n",
        "    dist_test[i]=distort(distortion,i)\n",
        "  pred=np.empty([10000])\n",
        "  for i in range(1,10001):\n",
        "    predictadv(pred,i)\n",
        "  test_acc=accuracy_score(pred,test_label)\n",
        "  acc.insert(j,test_acc)\n",
        "  print(\"Distortion: \",distortion,\"              \",\"Accuracy:  \",test_acc)\n",
        "  print()\n",
        "  (colourmat(pred,test_label))\n",
        "  print()\n",
        "  print(\"__________________________________________________________\")\n",
        "  print()"
      ],
      "execution_count": 0,
      "outputs": [
        {
          "output_type": "stream",
          "text": [
            "Distortion:  0                Accuracy:   0.8393\n",
            "\n",
            "Normalized confusion matrix\n",
            "[[ 875    0   34   10    2   20   18    7    8    4]\n",
            " [   1 1096   11    4    0    5    6    9   30    7]\n",
            " [  21    8  831   12   10    5   38   19   35    2]\n",
            " [   7    6   14  916    3   35    1    8   75   13]\n",
            " [   1    0   17    4  831   14   24   11   22  101]\n",
            " [  50    0    9   18    1  677   27    1   73    8]\n",
            " [  15    2   39    1   36   20  836    0   16    2]\n",
            " [   5    1   13   19    2    6    4  911   18  133]\n",
            " [   1   22   61   18    4   83    3   10  693   12]\n",
            " [   4    0    3    8   93   27    1   52    4  727]]\n"
          ],
          "name": "stdout"
        },
        {
          "output_type": "display_data",
          "data": {
            "image/png": "[encoded data removed]",
            "text/plain": [
              "<Figure size 432x288 with 2 Axes>"
            ]
          },
          "metadata": {
            "tags": []
          }
        },
        {
          "output_type": "stream",
          "text": [
            "\n",
            "__________________________________________________________\n",
            "\n",
            "Distortion:  0.01                Accuracy:   0.818\n",
            "\n",
            "Normalized confusion matrix\n",
            "[[ 842    0   32    8    2   22   12    7    6    5]\n",
            " [   1 1079   10    4    0    3    6    8   23    6]\n",
            " [  33   15  841   14   13    6   46   20   41    2]\n",
            " [   8   12   13  904    4   33    2   11   91   18]\n",
            " [   1    0   13    3  813   14   29   11   18  123]\n",
            " [  64    0    9   26    6  673   35    4   91   14]\n",
            " [  21    3   41    1   39   21  820    0   24    2]\n",
            " [   4    1   13   20    4    7    3  890   17  156]\n",
            " [   1   25   56   24    2   78    4   13  649   14]\n",
            " [   5    0    4    6   99   35    1   64   14  669]]\n"
          ],
          "name": "stdout"
        },
        {
          "output_type": "display_data",
          "data": {
            "image/png": "[encoded data removed]",
            "text/plain": [
              "<Figure size 432x288 with 2 Axes>"
            ]
          },
          "metadata": {
            "tags": []
          }
        },
        {
          "output_type": "stream",
          "text": [
            "\n",
            "__________________________________________________________\n",
            "\n",
            "Distortion:  0.05                Accuracy:   0.7086\n",
            "\n",
            "Normalized confusion matrix\n",
            "[[718   0  28   5   1  21   8   3   8   1]\n",
            " [  0 845   6   1   0   2   4   3  11   7]\n",
            " [ 63 100 852  18  37  10 108  65  76  21]\n",
            " [ 17  98  22 876  26  37  10  96 129  59]\n",
            " [  1   0   8   1 711   2  30   7  15 159]\n",
            " [110  20  16  52  51 664  77  32 163  57]\n",
            " [ 48  12  41   6  40  31 713   1  31   2]\n",
            " [  1   4  10  12   9   2   6 727  14 187]\n",
            " [  2  47  43  22   1  68   1  12 469   5]\n",
            " [ 20   9   6  17 106  55   1  82  58 511]]\n"
          ],
          "name": "stdout"
        },
        {
          "output_type": "display_data",
          "data": {
            "image/png": "[encoded data removed]",
            "text/plain": [
              "<Figure size 432x288 with 2 Axes>"
            ]
          },
          "metadata": {
            "tags": []
          }
        },
        {
          "output_type": "stream",
          "text": [
            "\n",
            "__________________________________________________________\n",
            "\n",
            "Distortion:  0.1                Accuracy:   0.5587\n",
            "\n",
            "Normalized confusion matrix\n",
            "[[533   0  20   4   0   9   2   3   5   1]\n",
            " [  0 444   1   1   1   1   2   1  10   0]\n",
            " [ 78 269 861  28 115  11 163 108  89  54]\n",
            " [ 25 269  29 828  83  52  10 234 137 133]\n",
            " [  0   1   3   0 466   1  20   1   5 112]\n",
            " [178  85  36  86 162 674 136 117 243 162]\n",
            " [100  21  43   9  30  34 620   0  69   1]\n",
            " [  3   2   5   4  11   2   1 465   8 145]\n",
            " [  4  20  25  15   1  50   1   5 298   3]\n",
            " [ 59  24   9  35 113  58   3  94 110 398]]\n"
          ],
          "name": "stdout"
        },
        {
          "output_type": "display_data",
          "data": {
            "image/png": "[encoded data removed]",
            "text/plain": [
              "<Figure size 432x288 with 2 Axes>"
            ]
          },
          "metadata": {
            "tags": []
          }
        },
        {
          "output_type": "stream",
          "text": [
            "\n",
            "__________________________________________________________\n",
            "\n",
            "Distortion:  0.15                Accuracy:   0.4377\n",
            "\n",
            "Normalized confusion matrix\n",
            "[[326   0   9   4   0   7   0   0   3   1]\n",
            " [  0 169   0   1   0   1   2   0   2   1]\n",
            " [ 95 336 815  29 179  19 208 142 116  74]\n",
            " [ 28 375  51 806 131  58  12 360 172 209]\n",
            " [  0   0   0   0 246   1   8   3   2  44]\n",
            " [263 171  56 108 281 680 155 180 287 245]\n",
            " [139  26  59  10  21  33 571   1  60   0]\n",
            " [  0  12   1   1  13   0   1 248   2  95]\n",
            " [  2   7  20  12   0  23   0   1 177   1]\n",
            " [127  39  21  39 111  70   1  93 153 339]]\n"
          ],
          "name": "stdout"
        },
        {
          "output_type": "display_data",
          "data": {
            "image/png": "[encoded data removed]",
            "text/plain": [
              "<Figure size 432x288 with 2 Axes>"
            ]
          },
          "metadata": {
            "tags": []
          }
        },
        {
          "output_type": "stream",
          "text": [
            "\n",
            "__________________________________________________________\n",
            "\n",
            "Distortion:  0.2                Accuracy:   0.3542\n",
            "\n",
            "Normalized confusion matrix\n",
            "[[164   0   5   1   0   5   1   0   1   0]\n",
            " [  0  48   0   0   0   0   1   0   0   0]\n",
            " [128 347 794  34 200  22 227 141 107  97]\n",
            " [ 31 450  70 767 140  56  21 421 193 229]\n",
            " [  0   0   0   0 117   1   1   3   0  19]\n",
            " [306 210  80 156 396 705 202 275 343 350]\n",
            " [166  24  41   9  21  30 500   0  56   1]\n",
            " [  1   6   2   0  15   1   0  98   2  40]\n",
            " [  0   1  22   2   0  11   0   0  78   2]\n",
            " [184  49  18  41  93  61   5  90 194 271]]\n"
          ],
          "name": "stdout"
        },
        {
          "output_type": "display_data",
          "data": {
            "image/png": "[encoded data removed]",
            "text/plain": [
              "<Figure size 432x288 with 2 Axes>"
            ]
          },
          "metadata": {
            "tags": []
          }
        },
        {
          "output_type": "stream",
          "text": [
            "\n",
            "__________________________________________________________\n",
            "\n",
            "Distortion:  0.3                Accuracy:   0.2671\n",
            "\n",
            "Normalized confusion matrix\n",
            "[[ 35   0   0   0   0   0   0   0   1   0]\n",
            " [  0   3   0   0   0   0   0   0   0   0]\n",
            " [146 302 731  61 213  27 290 136 151 106]\n",
            " [ 54 444  98 669 168  67  32 455 193 277]\n",
            " [  0   0   0   0  12   0   0   0   0   0]\n",
            " [432 343 138 234 495 716 319 365 432 454]\n",
            " [131  15  42   9  10  16 314   0  45   0]\n",
            " [  0   0   0   0   2   1   0  13   0  10]\n",
            " [  0   0   3   1   0   4   0   0  16   0]\n",
            " [182  28  20  36  82  61   3  59 136 162]]\n"
          ],
          "name": "stdout"
        },
        {
          "output_type": "display_data",
          "data": {
            "image/png": "[encoded data removed]",
            "text/plain": [
              "<Figure size 432x288 with 2 Axes>"
            ]
          },
          "metadata": {
            "tags": []
          }
        },
        {
          "output_type": "stream",
          "text": [
            "\n",
            "__________________________________________________________\n",
            "\n",
            "Distortion:  0.35                Accuracy:   0.2458\n",
            "\n",
            "Normalized confusion matrix\n",
            "[[ 13   0   1   0   0   0   0   0   0   0]\n",
            " [  0   2   0   0   0   0   0   0   0   0]\n",
            " [156 259 670  54 196  33 286 138 119 125]\n",
            " [ 44 431  99 643 154  57  28 396 206 254]\n",
            " [  0   0   0   0   2   0   0   0   0   0]\n",
            " [512 383 211 262 555 722 386 444 485 482]\n",
            " [101  15  26  10  12  26 254   0  34   0]\n",
            " [  0   0   0   0   0   0   0   1   0   0]\n",
            " [  1   0   2   0   0   0   0   0   3   0]\n",
            " [153  45  23  41  63  54   4  49 127 148]]\n"
          ],
          "name": "stdout"
        },
        {
          "output_type": "display_data",
          "data": {
            "image/png": "[encoded data removed]",
            "text/plain": [
              "<Figure size 432x288 with 2 Axes>"
            ]
          },
          "metadata": {
            "tags": []
          }
        },
        {
          "output_type": "stream",
          "text": [
            "\n",
            "__________________________________________________________\n",
            "\n",
            "Distortion:  0.4                Accuracy:   0.2253\n",
            "\n",
            "Normalized confusion matrix\n",
            "[[  2   0   0   0   0   0   0   0   0   0]\n",
            " [  0   0   0   0   0   0   0   0   0   0]\n",
            " [166 261 620  67 215  38 280 137 118  97]\n",
            " [ 59 413 124 577 165  87  56 361 171 267]\n",
            " [  0   0   0   0   0   0   0   0   0   0]\n",
            " [531 416 245 324 544 707 412 489 529 503]\n",
            " [ 76  14  22   4   8  14 204   0  22   0]\n",
            " [  0   0   0   0   0   0   0   0   0   1]\n",
            " [  1   0   0   0   0   1   0   0   2   0]\n",
            " [145  31  21  38  50  45   6  41 132 141]]\n"
          ],
          "name": "stdout"
        },
        {
          "output_type": "display_data",
          "data": {
            "image/png": "[encoded data removed]",
            "text/plain": [
              "<Figure size 432x288 with 2 Axes>"
            ]
          },
          "metadata": {
            "tags": []
          }
        },
        {
          "output_type": "stream",
          "text": [
            "\n",
            "__________________________________________________________\n",
            "\n",
            "Distortion:  0.7                Accuracy:   0.1411\n",
            "\n",
            "Normalized confusion matrix\n",
            "[[  0   0   0   0   0   0   0   0   0   0]\n",
            " [  0   0   0   0   0   0   0   0   0   0]\n",
            " [103 135 292  82 110  41 185  94 106  85]\n",
            " [ 90 262 180 334 149 101  94 240 163 177]\n",
            " [  0   0   0   0   0   0   0   0   0   0]\n",
            " [762 730 551 590 710 738 657 687 684 718]\n",
            " [  4   2   1   1   1   2  18   0   4   0]\n",
            " [  0   0   0   0   0   0   0   0   0   0]\n",
            " [  0   0   0   0   0   0   0   0   0   0]\n",
            " [ 21   6   8   3  12  10   4   7  17  29]]\n"
          ],
          "name": "stdout"
        },
        {
          "output_type": "display_data",
          "data": {
            "image/png": "[encoded data removed]",
            "text/plain": [
              "<Figure size 432x288 with 2 Axes>"
            ]
          },
          "metadata": {
            "tags": []
          }
        },
        {
          "output_type": "stream",
          "text": [
            "\n",
            "__________________________________________________________\n",
            "\n"
          ],
          "name": "stdout"
        }
      ]
    }
  ]
}