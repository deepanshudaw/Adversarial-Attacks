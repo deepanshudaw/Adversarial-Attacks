{
  "nbformat": 4,
  "nbformat_minor": 0,
  "metadata": {
    "colab": {
      "name": "FGSM attack.ipynb",
      "version": "0.3.2",
      "provenance": [],
      "collapsed_sections": [
        "F_mIGxbHYklJ"
      ],
      "include_colab_link": true
    },
    "kernelspec": {
      "name": "python3",
      "display_name": "Python 3"
    },
    "accelerator": "GPU"
  },
  "cells": [
    {
      "cell_type": "markdown",
      "metadata": {
        "id": "view-in-github",
        "colab_type": "text"
      },
      "source": [
        "<a href=\"https://colab.research.google.com/github/deepanshudaw/Adversarial-Attacks/blob/master/FGSM_attack.ipynb\" target=\"_parent\"><img src=\"https://colab.research.google.com/assets/colab-badge.svg\" alt=\"Open In Colab\"/></a>"
      ]
    },
    {
      "cell_type": "markdown",
      "metadata": {
        "id": "kzVzszLgccnB",
        "colab_type": "text"
      },
      "source": [
        "Importing uselful libraries"
      ]
    },
    {
      "cell_type": "code",
      "metadata": {
        "id": "pweoNtXsm8w_",
        "colab_type": "code",
        "colab": {}
      },
      "source": [
        "import tensorflow as tf\n",
        "from tensorflow import keras\n",
        "import numpy as np\n",
        "import matplotlib.pyplot as plt\n",
        "import random"
      ],
      "execution_count": 0,
      "outputs": []
    },
    {
      "cell_type": "code",
      "metadata": {
        "id": "hQ5Pt-6VnVGM",
        "colab_type": "code",
        "colab": {}
      },
      "source": [
        "mnist = keras.datasets.mnist"
      ],
      "execution_count": 0,
      "outputs": []
    },
    {
      "cell_type": "markdown",
      "metadata": {
        "id": "H6t7ZE3ock9v",
        "colab_type": "text"
      },
      "source": [
        "Scaling the data"
      ]
    },
    {
      "cell_type": "code",
      "metadata": {
        "id": "D_J0ZRiDIFVw",
        "colab_type": "code",
        "colab": {}
      },
      "source": [
        "(train_images, train_label), (test_images, test_label) = mnist.load_data()\n",
        "train_images = train_images / 255.0\n",
        "test_images = test_images / 255.0"
      ],
      "execution_count": 0,
      "outputs": []
    },
    {
      "cell_type": "markdown",
      "metadata": {
        "id": "NyxrC-2IHg56",
        "colab_type": "text"
      },
      "source": [
        "#Multiclass Classification \n",
        "\n",
        "```\n",
        "Model1\n",
        "```\n",
        "\n"
      ]
    },
    {
      "cell_type": "code",
      "metadata": {
        "id": "-ou2AfmxpLOx",
        "colab_type": "code",
        "outputId": "532342e0-e7af-4f34-b27c-3a39fb250694",
        "colab": {
          "base_uri": "https://localhost:8080/",
          "height": 104
        }
      },
      "source": [
        "model = keras.Sequential([\n",
        "    keras.layers.Flatten(input_shape=(28, 28)),\n",
        "    keras.layers.Dense(10, activation=tf.nn.softmax)\n",
        "])"
      ],
      "execution_count": 0,
      "outputs": [
        {
          "output_type": "stream",
          "text": [
            "WARNING: Logging before flag parsing goes to stderr.\n",
            "W0614 07:24:42.205538 139950879098752 deprecation.py:506] From /usr/local/lib/python3.6/dist-packages/tensorflow/python/ops/init_ops.py:1251: calling VarianceScaling.__init__ (from tensorflow.python.ops.init_ops) with dtype is deprecated and will be removed in a future version.\n",
            "Instructions for updating:\n",
            "Call initializer instance with the dtype argument instead of passing it to the constructor\n"
          ],
          "name": "stderr"
        }
      ]
    },
    {
      "cell_type": "code",
      "metadata": {
        "id": "fEBqnJh_tYiZ",
        "colab_type": "code",
        "colab": {}
      },
      "source": [
        "model.compile(optimizer='adam', \n",
        "              loss='sparse_categorical_crossentropy',\n",
        "              metrics=['accuracy'])"
      ],
      "execution_count": 0,
      "outputs": []
    },
    {
      "cell_type": "code",
      "metadata": {
        "id": "pwUWbThSP8R5",
        "colab_type": "code",
        "outputId": "2d3e6f49-0df0-4e15-c8cc-31de357fa160",
        "colab": {
          "base_uri": "https://localhost:8080/",
          "height": 202
        }
      },
      "source": [
        "model.fit(train_images, train_label, epochs=5)"
      ],
      "execution_count": 0,
      "outputs": [
        {
          "output_type": "stream",
          "text": [
            "Epoch 1/5\n",
            "60000/60000 [==============================] - 4s 66us/sample - loss: 0.4750 - acc: 0.8757\n",
            "Epoch 2/5\n",
            "60000/60000 [==============================] - 4s 59us/sample - loss: 0.3038 - acc: 0.9150\n",
            "Epoch 3/5\n",
            "60000/60000 [==============================] - 3s 57us/sample - loss: 0.2834 - acc: 0.9219\n",
            "Epoch 4/5\n",
            "60000/60000 [==============================] - 3s 56us/sample - loss: 0.2737 - acc: 0.9238\n",
            "Epoch 5/5\n",
            "60000/60000 [==============================] - 3s 58us/sample - loss: 0.2668 - acc: 0.9257\n"
          ],
          "name": "stdout"
        },
        {
          "output_type": "execute_result",
          "data": {
            "text/plain": [
              "<tensorflow.python.keras.callbacks.History at 0x7f4896a389e8>"
            ]
          },
          "metadata": {
            "tags": []
          },
          "execution_count": 8
        }
      ]
    },
    {
      "cell_type": "code",
      "metadata": {
        "id": "iC4C9f1OPKv7",
        "colab_type": "code",
        "outputId": "d615e5ce-261f-4683-94e0-6c0d51db6892",
        "colab": {
          "base_uri": "https://localhost:8080/",
          "height": 50
        }
      },
      "source": [
        "test_loss, test_acc = model.evaluate(test_images, test_label)\n",
        "\n",
        "print('Test accuracy:', test_acc)"
      ],
      "execution_count": 0,
      "outputs": [
        {
          "output_type": "stream",
          "text": [
            "10000/10000 [==============================] - 0s 44us/sample - loss: 0.2729 - acc: 0.9230\n",
            "Test accuracy: 0.923\n"
          ],
          "name": "stdout"
        }
      ]
    },
    {
      "cell_type": "markdown",
      "metadata": {
        "id": "2LsgNF7MmSB1",
        "colab_type": "text"
      },
      "source": [
        "#Weights and biases"
      ]
    },
    {
      "cell_type": "code",
      "metadata": {
        "id": "aplncyC9netc",
        "colab_type": "code",
        "outputId": "9d3fba62-557e-4f5a-bb98-b017fbb11fb8",
        "colab": {
          "base_uri": "https://localhost:8080/",
          "height": 50
        }
      },
      "source": [
        "model.layers"
      ],
      "execution_count": 0,
      "outputs": [
        {
          "output_type": "execute_result",
          "data": {
            "text/plain": [
              "[<tensorflow.python.keras.layers.core.Flatten at 0x7f4896a38ac8>,\n",
              " <tensorflow.python.keras.layers.core.Dense at 0x7f4896a38e48>]"
            ]
          },
          "metadata": {
            "tags": []
          },
          "execution_count": 10
        }
      ]
    },
    {
      "cell_type": "code",
      "metadata": {
        "id": "WUFf0FS5ZNsv",
        "colab_type": "code",
        "outputId": "a02e9644-ee85-44a5-c01e-71b2a84c7c77",
        "colab": {
          "base_uri": "https://localhost:8080/",
          "height": 34
        }
      },
      "source": [
        "train_images[9].shape"
      ],
      "execution_count": 0,
      "outputs": [
        {
          "output_type": "execute_result",
          "data": {
            "text/plain": [
              "(28, 28)"
            ]
          },
          "metadata": {
            "tags": []
          },
          "execution_count": 11
        }
      ]
    },
    {
      "cell_type": "code",
      "metadata": {
        "id": "xL92ddwrmVfH",
        "colab_type": "code",
        "outputId": "beb50157-d0c5-45d6-faa0-ffc90c29a325",
        "colab": {
          "base_uri": "https://localhost:8080/",
          "height": 504
        }
      },
      "source": [
        "summary = model.summary()\n",
        "layer_weights = model.layers[1].get_weights()\n",
        "\n",
        "\n",
        "print(summary)\n",
        "print('HIDDEN-OUTPUT LAYER WEIGHTS:')\n",
        "print(layer_weights)"
      ],
      "execution_count": 0,
      "outputs": [
        {
          "output_type": "stream",
          "text": [
            "Model: \"sequential\"\n",
            "_________________________________________________________________\n",
            "Layer (type)                 Output Shape              Param #   \n",
            "=================================================================\n",
            "flatten (Flatten)            (None, 784)               0         \n",
            "_________________________________________________________________\n",
            "dense (Dense)                (None, 10)                7850      \n",
            "=================================================================\n",
            "Total params: 7,850\n",
            "Trainable params: 7,850\n",
            "Non-trainable params: 0\n",
            "_________________________________________________________________\n",
            "None\n",
            "HIDDEN-OUTPUT LAYER WEIGHTS:\n",
            "[array([[ 0.04967336,  0.08173346, -0.04541287, ...,  0.07929546,\n",
            "        -0.02771937,  0.05821223],\n",
            "       [-0.08408047, -0.02176744, -0.08357406, ..., -0.04434944,\n",
            "        -0.00836277,  0.03718759],\n",
            "       [-0.04032581, -0.02126082, -0.00714342, ...,  0.04003149,\n",
            "         0.03020409, -0.00467454],\n",
            "       ...,\n",
            "       [ 0.03274537, -0.04450845,  0.00746471, ..., -0.05885345,\n",
            "        -0.01015642,  0.05568244],\n",
            "       [-0.05277876,  0.00600194, -0.05808114, ...,  0.0796478 ,\n",
            "         0.0674494 ,  0.02231979],\n",
            "       [ 0.06392988,  0.08406337,  0.01463286, ...,  0.08425605,\n",
            "        -0.05237206, -0.00772308]], dtype=float32), array([-0.38680163,  0.45360428,  0.07868055, -0.30169007,  0.09671941,\n",
            "        0.8994793 , -0.09069856,  0.5112717 , -1.0234237 , -0.19151448],\n",
            "      dtype=float32)]\n"
          ],
          "name": "stdout"
        }
      ]
    },
    {
      "cell_type": "code",
      "metadata": {
        "id": "Nqvu3MpAm-Cw",
        "colab_type": "code",
        "colab": {}
      },
      "source": [
        "w,b=layer_weights"
      ],
      "execution_count": 0,
      "outputs": []
    },
    {
      "cell_type": "markdown",
      "metadata": {
        "id": "OAOrx4joYLUv",
        "colab_type": "text"
      },
      "source": [
        "#Applying FGSM from scratch"
      ]
    },
    {
      "cell_type": "code",
      "metadata": {
        "id": "Wd_hDlIw3IPn",
        "colab_type": "code",
        "colab": {}
      },
      "source": [
        "dist=test_images[0].reshape(1,784)"
      ],
      "execution_count": 0,
      "outputs": []
    },
    {
      "cell_type": "code",
      "metadata": {
        "id": "FHVTE1Of5Ytu",
        "colab_type": "code",
        "outputId": "7f0f36ff-4b42-445c-d9e6-bd54737d26e0",
        "colab": {
          "base_uri": "https://localhost:8080/",
          "height": 34
        }
      },
      "source": [
        "w.shape,b.shape,dist.shape"
      ],
      "execution_count": 0,
      "outputs": [
        {
          "output_type": "execute_result",
          "data": {
            "text/plain": [
              "((784, 10), (10,), (1, 784))"
            ]
          },
          "metadata": {
            "tags": []
          },
          "execution_count": 15
        }
      ]
    },
    {
      "cell_type": "code",
      "metadata": {
        "id": "JPAkQ0IH3zxM",
        "colab_type": "code",
        "colab": {}
      },
      "source": [
        "def softmax(x):\n",
        "    e_x = np.exp(x - np.max(x))\n",
        "    return e_x / e_x.sum()"
      ],
      "execution_count": 0,
      "outputs": []
    },
    {
      "cell_type": "code",
      "metadata": {
        "id": "LwjZ2-MKcWEw",
        "colab_type": "code",
        "outputId": "d2c4c42d-06f8-4bf4-c2b2-8f86132f79a6",
        "colab": {
          "base_uri": "https://localhost:8080/",
          "height": 571
        }
      },
      "source": [
        "  eps=0.0\n",
        "  k=random.randint(0,9999) #selects a random test case\n",
        "  print(k)\n",
        "  dist=test_images[k].reshape(1,784) #reshapes the random test case's image\n",
        "  epsilon=np.empty([1,10])\n",
        "  for i in range(10):\n",
        "    epsilon[0][i]=eps #assign epsilon to an array\n",
        "  dist=dist+(np.matmul(epsilon,np.sign(w).transpose())) #the formula i used for distorted image generation\n",
        "  #model.predict(dist.reshape(1,28,28))\n",
        "  plt.imshow(dist.reshape(28,28), cmap='Greys')\n",
        "    #plt.imshow(test_images[0], cmap='Greys')\n",
        "  plt.show()\n",
        "  ar=np.empty(10)\n",
        "  for i in range(10):\n",
        "    ar[i]=model.predict(dist.reshape(1,28,28))[0][i]\n",
        "  mx=0\n",
        "  max_index=0\n",
        "  for i in range(10):\n",
        "    mx=max(mx,ar[i])\n",
        "    if(mx==ar[i]):\n",
        "      max_index=i\n",
        "  print(\"The predicted digit is\",max_index)\n",
        "  index = np.arange(10)\n",
        "  plt.bar(index,ar,tick_label=index)\n",
        "  plt.show"
      ],
      "execution_count": 0,
      "outputs": [
        {
          "output_type": "stream",
          "text": [
            "6719\n"
          ],
          "name": "stdout"
        },
        {
          "output_type": "display_data",
          "data": {
            "image/png": "[encoded data removed]",
            "text/plain": [
              "<Figure size 432x288 with 1 Axes>"
            ]
          },
          "metadata": {
            "tags": []
          }
        },
        {
          "output_type": "stream",
          "text": [
            "The predicted digit is 0\n"
          ],
          "name": "stdout"
        },
        {
          "output_type": "execute_result",
          "data": {
            "text/plain": [
              "<function matplotlib.pyplot.show>"
            ]
          },
          "metadata": {
            "tags": []
          },
          "execution_count": 95
        },
        {
          "output_type": "display_data",
          "data": {
            "image/png": "[encoded data removed]",
            "text/plain": [
              "<Figure size 432x288 with 1 Axes>"
            ]
          },
          "metadata": {
            "tags": []
          }
        }
      ]
    },
    {
      "cell_type": "code",
      "metadata": {
        "id": "Nl6Eer9EYh9V",
        "colab_type": "code",
        "outputId": "76d8b97a-63cd-46ab-9240-b0a3bb6fb517",
        "colab": {
          "base_uri": "https://localhost:8080/",
          "height": 235
        }
      },
      "source": [
        "k=0\n",
        "acc=[]\n",
        "range_eps=[0,0.01,0.02,0.03,0.04,0.05,0.06,0.07,0.08,0.09,0.1,0.15,0.2]\n",
        "for eps in range_eps:\n",
        "  dist_images=np.empty([10000,784])\n",
        "  for i in range(10000):\n",
        "    dist_images[i]=np.empty([1,784])\n",
        "    dist_images[i]=test_images[i].reshape(1,784)\n",
        "  epsilon=np.empty([1,10])\n",
        "  for i in range(10):\n",
        "    epsilon[0][i]=eps #assign epsilon to an array\n",
        "  dist_images=dist_images+(np.matmul(epsilon,np.sign(w).transpose()))\n",
        "  acc.insert(k,model.evaluate(dist_images.reshape(10000,28,28),test_label)[1])\n",
        "  k=k+1"
      ],
      "execution_count": 0,
      "outputs": [
        {
          "output_type": "stream",
          "text": [
            "10000/10000 [==============================] - 0s 42us/sample - loss: 0.2729 - acc: 0.9230\n",
            "10000/10000 [==============================] - 0s 40us/sample - loss: 0.4312 - acc: 0.8631\n",
            "10000/10000 [==============================] - 0s 42us/sample - loss: 0.9254 - acc: 0.7243\n",
            "10000/10000 [==============================] - 0s 41us/sample - loss: 1.7765 - acc: 0.5965\n",
            "10000/10000 [==============================] - 0s 41us/sample - loss: 2.9008 - acc: 0.5041\n",
            "10000/10000 [==============================] - 0s 42us/sample - loss: 4.1966 - acc: 0.4391\n",
            "10000/10000 [==============================] - 0s 43us/sample - loss: 5.5911 - acc: 0.3849\n",
            "10000/10000 [==============================] - 0s 43us/sample - loss: 7.0470 - acc: 0.3381\n",
            "10000/10000 [==============================] - 0s 44us/sample - loss: 8.5484 - acc: 0.3028\n",
            "10000/10000 [==============================] - 0s 42us/sample - loss: 10.0870 - acc: 0.2774\n",
            "10000/10000 [==============================] - 0s 43us/sample - loss: 11.6581 - acc: 0.2621\n",
            "10000/10000 [==============================] - 0s 44us/sample - loss: 19.9154 - acc: 0.2014\n",
            "10000/10000 [==============================] - 0s 44us/sample - loss: 28.7025 - acc: 0.1569\n"
          ],
          "name": "stdout"
        }
      ]
    },
    {
      "cell_type": "code",
      "metadata": {
        "id": "o261qHTH41sI",
        "colab_type": "code",
        "outputId": "67aeb673-73d9-426d-93bd-0464895e8442",
        "colab": {
          "base_uri": "https://localhost:8080/",
          "height": 518
        }
      },
      "source": [
        "plt.xlabel('epsilon')\n",
        "plt.ylabel('Accuracy')\n",
        "plt.plot([0,0.01,0.02,0.03,0.04,0.05,0.06,0.07,0.08,0.09,0.1,0.15,0.2],acc)\n",
        "i=0\n",
        "print(\"Epsilon\\t\\tAccuracy\")\n",
        "for eps in range_eps:\n",
        "  print(eps,'\\t\\t',acc[i])\n",
        "  i=i+1"
      ],
      "execution_count": 0,
      "outputs": [
        {
          "output_type": "stream",
          "text": [
            "Epsilon\t\tAccuracy\n",
            "0 \t\t 0.923\n",
            "0.01 \t\t 0.8631\n",
            "0.02 \t\t 0.7243\n",
            "0.03 \t\t 0.5965\n",
            "0.04 \t\t 0.5041\n",
            "0.05 \t\t 0.4391\n",
            "0.06 \t\t 0.3849\n",
            "0.07 \t\t 0.3381\n",
            "0.08 \t\t 0.3028\n",
            "0.09 \t\t 0.2774\n",
            "0.1 \t\t 0.2621\n",
            "0.15 \t\t 0.2014\n",
            "0.2 \t\t 0.1569\n"
          ],
          "name": "stdout"
        },
        {
          "output_type": "display_data",
          "data": {
            "image/png": "[encoded data removed]",
            "text/plain": [
              "<Figure size 432x288 with 1 Axes>"
            ]
          },
          "metadata": {
            "tags": []
          }
        }
      ]
    },
    {
      "cell_type": "markdown",
      "metadata": {
        "id": "qWdlbBDt1vO0",
        "colab_type": "text"
      },
      "source": [
        "#Coin flip "
      ]
    },
    {
      "cell_type": "code",
      "metadata": {
        "id": "pBYHqAPb1yno",
        "colab_type": "code",
        "outputId": "f26313f3-f606-46a6-ccb5-1660df97ba36",
        "colab": {
          "base_uri": "https://localhost:8080/",
          "height": 34
        }
      },
      "source": [
        "epsilon=0.01\n",
        "for i in range(10000):\n",
        "  if (2**i>(1/epsilon)):\n",
        "    k=i-1\n",
        "    break\n",
        "print (k)"
      ],
      "execution_count": 0,
      "outputs": [
        {
          "output_type": "stream",
          "text": [
            "6\n"
          ],
          "name": "stdout"
        }
      ]
    },
    {
      "cell_type": "code",
      "metadata": {
        "id": "pSJzKNOD2z2M",
        "colab_type": "code",
        "colab": {}
      },
      "source": [
        "\n",
        "def create_dist(k):\n",
        "  dist_images=np.empty([10000,28,28])\n",
        "  ite=0\n",
        "  for i in range(10000):\n",
        "    for j in range(28):\n",
        "      for l in range(28):\n",
        "        no_of_heads=0\n",
        "        for b in range(k):\n",
        "          if random.randint(0,1)==0:\n",
        "            no_of_heads=no_of_heads+1\n",
        "        if no_of_heads==k:\n",
        "          ite=ite+1\n",
        "          dist_images[i][j][l]=random.randint(0,254)\n",
        "        else:\n",
        "          dist_images[i][j][l]=test_images[i][j][l]\n",
        "  return ite,dist_images"
      ],
      "execution_count": 0,
      "outputs": []
    },
    {
      "cell_type": "code",
      "metadata": {
        "id": "r7zN4ssUG9qz",
        "colab_type": "code",
        "colab": {}
      },
      "source": [
        "  k=4\n",
        "  dist_images=np.empty([10000,28,28])\n",
        "  ite=0\n",
        "  for i in range(10000):\n",
        "    for j in range(28):\n",
        "      for l in range(28):\n",
        "        no_of_heads=0\n",
        "        for b in range(k):\n",
        "          if random.randint(0,1)==0:\n",
        "            no_of_heads=no_of_heads+1\n",
        "        if no_of_heads==k:\n",
        "          ite=ite+1\n",
        "          dist_images[i][j][l]=random.randint(0,254)\n",
        "        else:\n",
        "          dist_images[i][j][l]=test_images[i][j][l]"
      ],
      "execution_count": 0,
      "outputs": []
    },
    {
      "cell_type": "code",
      "metadata": {
        "id": "50OXR6WGB6_f",
        "colab_type": "code",
        "colab": {}
      },
      "source": [
        "it=0\n",
        "dis_images=np.empty([10000,28,28])\n",
        "it,dis_images=create_dist(8)"
      ],
      "execution_count": 0,
      "outputs": []
    },
    {
      "cell_type": "code",
      "metadata": {
        "id": "buyCe_7O4hp2",
        "colab_type": "code",
        "outputId": "f6f1d783-51a2-4069-ff0f-31dddedc1529",
        "colab": {
          "base_uri": "https://localhost:8080/",
          "height": 286
        }
      },
      "source": [
        "ite/(28*28*100),plt.imshow(dist_images[0],cmap='Greys')"
      ],
      "execution_count": 0,
      "outputs": [
        {
          "output_type": "execute_result",
          "data": {
            "text/plain": [
              "(6.247270408163265, <matplotlib.image.AxesImage at 0x7f4888090ac8>)"
            ]
          },
          "metadata": {
            "tags": []
          },
          "execution_count": 97
        },
        {
          "output_type": "display_data",
          "data": {
            "image/png": "[encoded data removed]",
            "text/plain": [
              "<Figure size 432x288 with 1 Axes>"
            ]
          },
          "metadata": {
            "tags": []
          }
        }
      ]
    },
    {
      "cell_type": "code",
      "metadata": {
        "id": "EYCPZ4am__2o",
        "colab_type": "code",
        "outputId": "7a337fc4-2762-4ab7-d920-898eb069e480",
        "colab": {
          "base_uri": "https://localhost:8080/",
          "height": 420
        }
      },
      "source": [
        "for k in range(1,5):\n",
        "  print(k)\n",
        "  dist_images=np.empty([10000,28,28])\n",
        "  ite=0\n",
        "  for i in range(10000):\n",
        "    for j in range(28):\n",
        "      for l in range(28):\n",
        "        no_of_heads=0\n",
        "        for b in range(k):\n",
        "          if random.randint(0,1)==0:\n",
        "            no_of_heads=no_of_heads+1\n",
        "        if no_of_heads==k:\n",
        "          ite=ite+1\n",
        "          dist_images[i][j][l]=random.randint(0,254)\n",
        "        else:\n",
        "          dist_images[i][j][l]=test_images[i][j][l]\n",
        "  print(\"Model Accuracy  : \",model.evaluate(dist_images/255, test_label)[1])\n",
        "  print(\"Distortion done : \",ite/(28*28*100),\" %\")\n",
        "  print(\"________________________________________________\")\n",
        "print(\"Model Accuracy  : \",model.evaluate(test_images/255, test_label)[1])\n",
        "print(\"Distortion done :  0 %\")\n",
        "print(\"________________________________________________\")"
      ],
      "execution_count": 0,
      "outputs": [
        {
          "output_type": "stream",
          "text": [
            "1\n",
            "10000/10000 [==============================] - 0s 44us/sample - loss: 8.0369 - acc: 0.2253\n",
            "Model Accuracy  :  0.2253\n",
            "Distortion done :  49.986875  %\n",
            "________________________________________________\n",
            "2\n",
            "10000/10000 [==============================] - 0s 42us/sample - loss: 2.7535 - acc: 0.4167\n",
            "Model Accuracy  :  0.4167\n",
            "Distortion done :  25.000854591836735  %\n",
            "________________________________________________\n",
            "3\n",
            "10000/10000 [==============================] - 0s 43us/sample - loss: 0.8490 - acc: 0.7172\n",
            "Model Accuracy  :  0.7172\n",
            "Distortion done :  12.48876275510204  %\n",
            "________________________________________________\n",
            "4\n",
            "10000/10000 [==============================] - 0s 43us/sample - loss: 0.4140 - acc: 0.8701\n",
            "Model Accuracy  :  0.8701\n",
            "Distortion done :  6.260803571428571  %\n",
            "________________________________________________\n",
            "10000/10000 [==============================] - 0s 43us/sample - loss: 0.2666 - acc: 0.9263\n",
            "Model Accuracy  :  0.9263\n",
            "Distortion done : 0 %\n",
            "________________________________________________\n"
          ],
          "name": "stdout"
        }
      ]
    }
  ]
}