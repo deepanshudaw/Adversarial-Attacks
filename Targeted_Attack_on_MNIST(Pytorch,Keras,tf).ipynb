{
  "nbformat": 4,
  "nbformat_minor": 0,
  "metadata": {
    "colab": {
      "name": "Adversaries that  look like any other digits.ipynb",
      "version": "0.3.2",
      "provenance": [],
      "collapsed_sections": [],
      "include_colab_link": true
    },
    "kernelspec": {
      "name": "python3",
      "display_name": "Python 3"
    },
    "accelerator": "GPU"
  },
  "cells": [
    {
      "cell_type": "markdown",
      "metadata": {
        "id": "view-in-github",
        "colab_type": "text"
      },
      "source": [
        "<a href=\"https://colab.research.google.com/github/deepanshudaw/Adversarial-Attacks/blob/master/Targeted_Attack_on_MNIST(Pytorch%2CKeras%2Ctf).ipynb\" target=\"_parent\"><img src=\"https://colab.research.google.com/assets/colab-badge.svg\" alt=\"Open In Colab\"/></a>"
      ]
    },
    {
      "cell_type": "markdown",
      "metadata": {
        "id": "HNIAh5qV7HSx",
        "colab_type": "text"
      },
      "source": [
        "Google Drive Merge"
      ]
    },
    {
      "cell_type": "code",
      "metadata": {
        "id": "doTql7QDt-Sq",
        "colab_type": "code",
        "outputId": "b7fef48b-ecb9-4351-e79c-f82a18ebc20c",
        "colab": {
          "base_uri": "https://localhost:8080/",
          "height": 34
        }
      },
      "source": [
        "from google.colab import drive\n",
        "drive.mount('/content/drive')                                                   "
      ],
      "execution_count": 0,
      "outputs": [
        {
          "output_type": "stream",
          "text": [
            "Drive already mounted at /content/drive; to attempt to forcibly remount, call drive.mount(\"/content/drive\", force_remount=True).\n"
          ],
          "name": "stdout"
        }
      ]
    },
    {
      "cell_type": "markdown",
      "metadata": {
        "id": "IwdmMg7M7KpS",
        "colab_type": "text"
      },
      "source": [
        "Import Imports"
      ]
    },
    {
      "cell_type": "code",
      "metadata": {
        "id": "XGjv3QdBtBrg",
        "colab_type": "code",
        "colab": {}
      },
      "source": [
        "from __future__ import print_function\n",
        "import torch\n",
        "import torch.nn as nn\n",
        "import time\n",
        "import torch.nn.functional as F\n",
        "import torch.optim as optim\n",
        "from torchvision import datasets, transforms\n",
        "import numpy as np\n",
        "import matplotlib.pyplot as plt"
      ],
      "execution_count": 0,
      "outputs": []
    },
    {
      "cell_type": "markdown",
      "metadata": {
        "id": "HdSEg8iZ7O3h",
        "colab_type": "text"
      },
      "source": [
        "#LeNet Pretrained model"
      ]
    },
    {
      "cell_type": "code",
      "metadata": {
        "id": "WKOQWv81tOPP",
        "colab_type": "code",
        "colab": {}
      },
      "source": [
        "epsilons = [0, .05, .1, .15, .2, .25, .3]\n",
        "pretrained_model = \"/content/drive/My Drive/MNIST_pretrained_model/lenet_mnist_model.pth\"\n",
        "use_cuda=True"
      ],
      "execution_count": 0,
      "outputs": []
    },
    {
      "cell_type": "code",
      "metadata": {
        "id": "K4Px3FVnuUtf",
        "colab_type": "code",
        "outputId": "93a88e04-756a-4858-a06b-0f0a9927f0fe",
        "colab": {
          "base_uri": "https://localhost:8080/",
          "height": 151
        }
      },
      "source": [
        "# LeNet Model definition\n",
        "class Net(nn.Module):\n",
        "    def __init__(self):\n",
        "        super(Net, self).__init__()\n",
        "        self.conv1 = nn.Conv2d(1, 10, kernel_size=5)\n",
        "        self.conv2 = nn.Conv2d(10, 20, kernel_size=5)\n",
        "        self.conv2_drop = nn.Dropout2d()\n",
        "        self.fc1 = nn.Linear(320, 50)\n",
        "        self.fc2 = nn.Linear(50, 10)\n",
        "\n",
        "    def forward(self, x):\n",
        "        x = F.relu(F.max_pool2d(self.conv1(x), 2))\n",
        "        x = F.relu(F.max_pool2d(self.conv2_drop(self.conv2(x)), 2))\n",
        "        x = x.view(-1, 320)\n",
        "        x = F.relu(self.fc1(x))\n",
        "        x = F.dropout(x, training=self.training)\n",
        "        x = self.fc2(x)\n",
        "        return F.log_softmax(x, dim=1)\n",
        "\n",
        "# MNIST Test dataset and dataloader declaration\n",
        "test_loader = torch.utils.data.DataLoader(\n",
        "    datasets.MNIST('../data', train=False, download=True, transform=transforms.Compose([\n",
        "            transforms.ToTensor(),\n",
        "            ])),\n",
        "        batch_size=1, shuffle=True)\n",
        "\n",
        "# Define what device we are using\n",
        "print(\"CUDA Available: \",torch.cuda.is_available())\n",
        "device = torch.device(\"cuda\" if (use_cuda and torch.cuda.is_available()) else \"cpu\")\n",
        "\n",
        "# Initialize the network\n",
        "model = Net().to(device)\n",
        "\n",
        "# Load the pretrained model\n",
        "model.load_state_dict(torch.load(pretrained_model, map_location='cpu'))\n",
        "\n",
        "# Set the model in evaluation mode. In this case this is for the Dropout layers\n",
        "model.eval()"
      ],
      "execution_count": 0,
      "outputs": [
        {
          "output_type": "stream",
          "text": [
            "CUDA Available:  True\n"
          ],
          "name": "stdout"
        },
        {
          "output_type": "execute_result",
          "data": {
            "text/plain": [
              "Net(\n",
              "  (conv1): Conv2d(1, 10, kernel_size=(5, 5), stride=(1, 1))\n",
              "  (conv2): Conv2d(10, 20, kernel_size=(5, 5), stride=(1, 1))\n",
              "  (conv2_drop): Dropout2d(p=0.5)\n",
              "  (fc1): Linear(in_features=320, out_features=50, bias=True)\n",
              "  (fc2): Linear(in_features=50, out_features=10, bias=True)\n",
              ")"
            ]
          },
          "metadata": {
            "tags": []
          },
          "execution_count": 92
        }
      ]
    },
    {
      "cell_type": "markdown",
      "metadata": {
        "id": "tVOqba7H7U7A",
        "colab_type": "text"
      },
      "source": [
        "#FGSM Attack"
      ]
    },
    {
      "cell_type": "code",
      "metadata": {
        "id": "Kpk9C9f1vPVf",
        "colab_type": "code",
        "colab": {}
      },
      "source": [
        "# FGSM attack code\n",
        "def fgsm_attack(image, epsilon, data_grad):\n",
        "    # Collect the element-wise sign of the data gradient\n",
        "    sign_data_grad = data_grad.sign()\n",
        "    # Create the perturbed image by adjusting each pixel of the input image\n",
        "    perturbed_image = image + epsilon*sign_data_grad\n",
        "    # Adding clipping to maintain [0,1] range\n",
        "    perturbed_image = torch.clamp(perturbed_image, 0, 1)\n",
        "    # Return the perturbed image\n",
        "    return perturbed_image\n",
        "  "
      ],
      "execution_count": 0,
      "outputs": []
    },
    {
      "cell_type": "markdown",
      "metadata": {
        "id": "nnuxfJgs7Y8Q",
        "colab_type": "text"
      },
      "source": [
        "AdvImage takes epsilon as the input and gives 10000 adversarial images by attacking the test data. It also gives all the true labels of the adversarial images in the form of a list."
      ]
    },
    {
      "cell_type": "code",
      "metadata": {
        "id": "o-Qa6OCCoU4R",
        "colab_type": "code",
        "colab": {}
      },
      "source": [
        "def AdvImage(epsilon):\n",
        "    advarray=[]\n",
        "    label=[]\n",
        "    images=[]\n",
        "    i=0\n",
        "    print(\"!Attack Initiated!\")\n",
        "    for data, target in test_loader:\n",
        "\n",
        "        # Send the data and label to the device\n",
        "        data, target = data.to(device), target.to(device)\n",
        "\n",
        "        # Set requires_grad attribute of tensor. Important for Attack\n",
        "        data.requires_grad = True\n",
        "\n",
        "        # Forward pass the data through the model\n",
        "        output = model(data)\n",
        "        init_pred = output.max(1, keepdim=True)[1] # get the index of the max log-probability\n",
        "\n",
        "        # Calculate the loss\n",
        "        loss = F.nll_loss(output, target)\n",
        "        \n",
        "        label.insert(i,target.item())\n",
        "        # Zero all existing gradients\n",
        "        model.zero_grad()\n",
        "\n",
        "        # Calculate gradients of model in backward pass\n",
        "        loss.backward()\n",
        "\n",
        "        # Collect datagrad\n",
        "        data_grad = data.grad.data\n",
        "\n",
        "        # Call FGSM Attack\n",
        "        perturbed_data = fgsm_attack(data, epsilon, data_grad)\n",
        "        \n",
        "        i=i+1\n",
        "        images.insert(i,data)\n",
        "        advarray.insert(i,perturbed_data)\n",
        "    print(\"!Attack Successful!\")\n",
        "    return advarray,label,images"
      ],
      "execution_count": 0,
      "outputs": []
    },
    {
      "cell_type": "code",
      "metadata": {
        "id": "j-pxGlHm9n3O",
        "colab_type": "code",
        "outputId": "75316f81-c0d7-463e-e724-d88cc796c4fc",
        "colab": {
          "base_uri": "https://localhost:8080/",
          "height": 34
        }
      },
      "source": [
        "#a,label,normalimg=AdvImage(0.1)\n",
        "a_2,label_2,image_2=AdvImage(0.2)"
      ],
      "execution_count": 0,
      "outputs": [
        {
          "output_type": "stream",
          "text": [
            "10000\n"
          ],
          "name": "stdout"
        }
      ]
    },
    {
      "cell_type": "markdown",
      "metadata": {
        "id": "Fvb51e8uxel5",
        "colab_type": "text"
      },
      "source": [
        "#Keras Model"
      ]
    },
    {
      "cell_type": "markdown",
      "metadata": {
        "id": "GQPeqosR70xZ",
        "colab_type": "text"
      },
      "source": [
        "This is our model on which we will be testing the adversarial images"
      ]
    },
    {
      "cell_type": "code",
      "metadata": {
        "id": "VM2FkH11xhcZ",
        "colab_type": "code",
        "colab": {}
      },
      "source": [
        "import tensorflow as tf\n",
        "from tensorflow import keras\n",
        "import numpy as np\n",
        "import matplotlib.pyplot as plt\n",
        "import random\n",
        "mnist = keras.datasets.mnist\n",
        "(train_images, train_label), (test_images, test_label) = mnist.load_data()\n",
        "train_images = train_images / 255.0\n",
        "test_images = test_images / 255.0"
      ],
      "execution_count": 0,
      "outputs": []
    },
    {
      "cell_type": "code",
      "metadata": {
        "id": "EnyXFpZOxq_u",
        "colab_type": "code",
        "colab": {}
      },
      "source": [
        "model1 = keras.Sequential([\n",
        "    keras.layers.Flatten(input_shape=(28, 28)),\n",
        "    keras.layers.Dense(128, activation=tf.nn.relu),\n",
        "    keras.layers.Dense(10, activation=tf.nn.softmax)\n",
        "])\n",
        "model1.compile(optimizer='adam', \n",
        "              loss='sparse_categorical_crossentropy',\n",
        "              metrics=['accuracy'])"
      ],
      "execution_count": 0,
      "outputs": []
    },
    {
      "cell_type": "code",
      "metadata": {
        "id": "nFciNIQNxuSk",
        "colab_type": "code",
        "outputId": "37db06e0-a108-4826-d760-20c57c55acf1",
        "colab": {
          "base_uri": "https://localhost:8080/",
          "height": 202
        }
      },
      "source": [
        "model1.fit(train_images, train_label, epochs=5)"
      ],
      "execution_count": 0,
      "outputs": [
        {
          "output_type": "stream",
          "text": [
            "Epoch 1/5\n",
            "60000/60000 [==============================] - 5s 89us/sample - loss: 0.2547 - acc: 0.9263\n",
            "Epoch 2/5\n",
            "60000/60000 [==============================] - 5s 88us/sample - loss: 0.1137 - acc: 0.9673\n",
            "Epoch 3/5\n",
            "60000/60000 [==============================] - 5s 83us/sample - loss: 0.0791 - acc: 0.9763\n",
            "Epoch 4/5\n",
            "60000/60000 [==============================] - 5s 83us/sample - loss: 0.0595 - acc: 0.9822\n",
            "Epoch 5/5\n",
            "60000/60000 [==============================] - 5s 84us/sample - loss: 0.0454 - acc: 0.9862\n"
          ],
          "name": "stdout"
        },
        {
          "output_type": "execute_result",
          "data": {
            "text/plain": [
              "<tensorflow.python.keras.callbacks.History at 0x7f19b231fb70>"
            ]
          },
          "metadata": {
            "tags": []
          },
          "execution_count": 125
        }
      ]
    },
    {
      "cell_type": "code",
      "metadata": {
        "id": "x5BJMbN8xwjr",
        "colab_type": "code",
        "outputId": "3bc3225a-62f4-42c0-bfe9-8f0c80842af1",
        "colab": {
          "base_uri": "https://localhost:8080/",
          "height": 50
        }
      },
      "source": [
        "test_loss, test_acc = model1.evaluate(test_images, test_label)\n",
        "\n",
        "print('Test accuracy:', test_acc)"
      ],
      "execution_count": 0,
      "outputs": [
        {
          "output_type": "stream",
          "text": [
            "10000/10000 [==============================] - 0s 48us/sample - loss: 0.0842 - acc: 0.9742\n",
            "Test accuracy: 0.9742\n"
          ],
          "name": "stdout"
        }
      ]
    },
    {
      "cell_type": "markdown",
      "metadata": {
        "id": "wEdI6Fl577lF",
        "colab_type": "text"
      },
      "source": [
        "Testing the model on normal images"
      ]
    },
    {
      "cell_type": "code",
      "metadata": {
        "id": "xHfO4cDvx571",
        "colab_type": "code",
        "colab": {}
      },
      "source": [
        "def plot(k):\n",
        "  ar=np.empty(10)\n",
        "  for i in range(10):\n",
        "    ar[i]=model1.predict(test_images[k:k+1])[0][i]\n",
        "  mx=0\n",
        "  max_index=0\n",
        "  for i in range(10):\n",
        "    mx=max(mx,ar[i])\n",
        "    if(mx==ar[i]):\n",
        "      max_index=i\n",
        "  print(\"The predicted digit is\",max_index)\n",
        "  index = np.arange(10)\n",
        "  plt.bar(index,ar,tick_label=index)\n",
        "  plt.show\n",
        "def getimage_true(k):\n",
        "  print(\"True Value is:\", test_label[k])  \n",
        "  plt.imshow(test_images[k], cmap='Greys')\n",
        "  plt.show()"
      ],
      "execution_count": 0,
      "outputs": []
    },
    {
      "cell_type": "code",
      "metadata": {
        "id": "-q2_dSUZx8VF",
        "colab_type": "code",
        "outputId": "21bf1e06-8535-4626-ff95-0d5e7f748805",
        "colab": {
          "base_uri": "https://localhost:8080/",
          "height": 571
        }
      },
      "source": [
        "k=random.randint(0,9999) \n",
        "#k=3460\n",
        "print(\"Index no:\",k)\n",
        "getimage_true(k)\n",
        "plot(k)"
      ],
      "execution_count": 0,
      "outputs": [
        {
          "output_type": "stream",
          "text": [
            "Index no: 4692\n",
            "True Value is: 9\n"
          ],
          "name": "stdout"
        },
        {
          "output_type": "display_data",
          "data": {
            "image/png": "[encoded data removed]",
            "text/plain": [
              "<Figure size 432x288 with 1 Axes>"
            ]
          },
          "metadata": {
            "tags": []
          }
        },
        {
          "output_type": "stream",
          "text": [
            "The predicted digit is 9\n"
          ],
          "name": "stdout"
        },
        {
          "output_type": "display_data",
          "data": {
            "image/png": "[encoded data removed]",
            "text/plain": [
              "<Figure size 432x288 with 1 Axes>"
            ]
          },
          "metadata": {
            "tags": []
          }
        }
      ]
    },
    {
      "cell_type": "markdown",
      "metadata": {
        "id": "hE0H-j5nyBoz",
        "colab_type": "text"
      },
      "source": [
        "#Testing model on adv example"
      ]
    },
    {
      "cell_type": "code",
      "metadata": {
        "id": "DpysaIAq-L5C",
        "colab_type": "code",
        "outputId": "9c68e0c4-92d9-4cd2-c061-43a668d60974",
        "colab": {
          "base_uri": "https://localhost:8080/",
          "height": 67
        }
      },
      "source": [
        "epsilon=0.2\n",
        "start = time.clock()\n",
        "a_2,label_2,image_2=AdvImage(epsilon)\n",
        "print ('Time elapsed: ',float(time.clock() - start),'s')"
      ],
      "execution_count": 0,
      "outputs": [
        {
          "output_type": "stream",
          "text": [
            "!Attack Initiated!\n",
            "!Attack Successful!\n",
            "Time elapsed:  17.54927500000008 s\n"
          ],
          "name": "stdout"
        }
      ]
    },
    {
      "cell_type": "code",
      "metadata": {
        "id": "q9ETQBpNyn0i",
        "colab_type": "code",
        "colab": {}
      },
      "source": [
        "def realimage(g): \n",
        "  print(\"Actual Image was:\")\n",
        "  plt.imshow(image_2[g][0].cpu().detach().reshape(28,28), cmap='Greys')\n",
        "  plt.show()\n",
        "\n",
        "def plotforeg(g):\n",
        "  ar=np.empty(10)\n",
        "  for i in range(10):\n",
        "    ar[i]=model1.predict(a_2[g][0].cpu().detach())[:,i]\n",
        "  mx=0\n",
        "  max_index=0\n",
        "  for i in range(10):\n",
        "    mx=max(mx,ar[i])\n",
        "    if(mx==ar[i]):\n",
        "      max_index=i\n",
        "  print(\"Predicted element for  adversarial image:\",max_index)\n",
        "  index = np.arange(10)\n",
        "  plt.bar(index,ar,tick_label=index)\n",
        "  plt.show\n",
        "def getimage(g):\n",
        "  print(\"True Value is:\", label_2[g])  \n",
        "  plt.imshow(a_2[g][0].cpu().detach().reshape(28,28), cmap='Greys')\n",
        "  plt.show()\n",
        "def getlabel(g):\n",
        "  ar=np.empty(10)\n",
        "  for i in range(10):\n",
        "    ar[i]=model1.predict(image_2[g][0].cpu().detach())[:,i]\n",
        "  mx=0\n",
        "  max_index=0\n",
        "  for i in range(10):\n",
        "      mx=max(mx,ar[i])\n",
        "      if(mx==ar[i]):\n",
        "        max_index=i\n",
        "  print(\"Predicted element for normal image:      \",max_index)"
      ],
      "execution_count": 0,
      "outputs": []
    },
    {
      "cell_type": "code",
      "metadata": {
        "id": "j2cCnjcqk85Y",
        "colab_type": "code",
        "outputId": "a39fef20-3db6-4489-c3c3-69a89aee4342",
        "colab": {
          "base_uri": "https://localhost:8080/",
          "height": 34
        }
      },
      "source": [
        "epsilon"
      ],
      "execution_count": 0,
      "outputs": [
        {
          "output_type": "execute_result",
          "data": {
            "text/plain": [
              "0.2"
            ]
          },
          "metadata": {
            "tags": []
          },
          "execution_count": 306
        }
      ]
    },
    {
      "cell_type": "code",
      "metadata": {
        "id": "j8fJP9y6wM5A",
        "colab_type": "code",
        "outputId": "1c527059-8140-4bc8-8205-ef9f09deb54b",
        "colab": {
          "base_uri": "https://localhost:8080/",
          "height": 857
        }
      },
      "source": [
        "k=random.randint(0,9999)\n",
        "print(\"k: \",k)\n",
        "getimage(k)\n",
        "realimage(k)\n",
        "plotforeg(k)\n",
        "getlabel(k)"
      ],
      "execution_count": 0,
      "outputs": [
        {
          "output_type": "stream",
          "text": [
            "k:  5425\n",
            "True Value is: 2\n"
          ],
          "name": "stdout"
        },
        {
          "output_type": "display_data",
          "data": {
            "image/png": "[encoded data removed]",
            "text/plain": [
              "<Figure size 432x288 with 1 Axes>"
            ]
          },
          "metadata": {
            "tags": []
          }
        },
        {
          "output_type": "stream",
          "text": [
            "Actual Image was:\n"
          ],
          "name": "stdout"
        },
        {
          "output_type": "display_data",
          "data": {
            "image/png": "[encoded data removed]",
            "text/plain": [
              "<Figure size 432x288 with 1 Axes>"
            ]
          },
          "metadata": {
            "tags": []
          }
        },
        {
          "output_type": "stream",
          "text": [
            "Predicted element for  adversarial image: 3\n",
            "Predicted element for normal image:       2\n"
          ],
          "name": "stdout"
        },
        {
          "output_type": "display_data",
          "data": {
            "image/png": "[encoded data removed]",
            "text/plain": [
              "<Figure size 432x288 with 1 Axes>"
            ]
          },
          "metadata": {
            "tags": []
          }
        }
      ]
    },
    {
      "cell_type": "code",
      "metadata": {
        "id": "6fSgfBp4aXDm",
        "colab_type": "code",
        "colab": {}
      },
      "source": [
        "def accuracy(epsilon):\n",
        "  a_2,label_2,image_2=AdvImage(epsilon)\n",
        "  predicted=[]\n",
        "  acc=0\n",
        "  for g in range(10000):\n",
        "    ar=np.empty(10)\n",
        "    for i in range(10):\n",
        "      ar[i]=model1.predict(a_2[g][0].cpu().detach())[:,i]\n",
        "    mx=0\n",
        "    max_index=0\n",
        "    for i in range(10):\n",
        "        mx=max(mx,ar[i])\n",
        "        if(mx==ar[i]):\n",
        "          max_index=i\n",
        "    #predicted.insert(g,max_index)\n",
        "    if max_index==label_2[g]:\n",
        "      acc=acc+1\n",
        "  return acc/10000"
      ],
      "execution_count": 0,
      "outputs": []
    },
    {
      "cell_type": "code",
      "metadata": {
        "id": "rnEY6zb6crvL",
        "colab_type": "code",
        "outputId": "2c36e956-5d1d-4fb3-f343-b28ddac22a9c",
        "colab": {
          "base_uri": "https://localhost:8080/",
          "height": 218
        }
      },
      "source": [
        "e=np.empty(4)\n",
        "for i in [0.1,0.15,0.2,0.3]:\n",
        "  print(accuracy(i))"
      ],
      "execution_count": 0,
      "outputs": [
        {
          "output_type": "stream",
          "text": [
            "!Attack Initiated!\n",
            "!Attack Successful!\n",
            "0.8653\n",
            "!Attack Initiated!\n",
            "!Attack Successful!\n",
            "0.6557\n",
            "!Attack Initiated!\n",
            "!Attack Successful!\n",
            "0.4687\n",
            "!Attack Initiated!\n",
            "!Attack Successful!\n",
            "0.2066\n"
          ],
          "name": "stdout"
        }
      ]
    },
    {
      "cell_type": "markdown",
      "metadata": {
        "id": "nSaJWnKZGIcV",
        "colab_type": "text"
      },
      "source": [
        "#Model2"
      ]
    },
    {
      "cell_type": "markdown",
      "metadata": {
        "colab_type": "text",
        "id": "6x5feBcvGP1k"
      },
      "source": [
        "This is our model on which we will be testing the adversarial images"
      ]
    },
    {
      "cell_type": "code",
      "metadata": {
        "colab_type": "code",
        "id": "X13aSKKrGP12",
        "colab": {}
      },
      "source": [
        "model2 = keras.Sequential([\n",
        "    keras.layers.Flatten(input_shape=(28, 28)),\n",
        "    keras.layers.Dense(10, activation=tf.nn.softmax)\n",
        "])\n",
        "model2.compile(optimizer='adam', \n",
        "              loss='sparse_categorical_crossentropy',\n",
        "              metrics=['accuracy'])"
      ],
      "execution_count": 0,
      "outputs": []
    },
    {
      "cell_type": "code",
      "metadata": {
        "colab_type": "code",
        "outputId": "fd8e64c0-8e38-432a-fcd2-7400545b4be7",
        "id": "YauHQ_TKGP1-",
        "colab": {
          "base_uri": "https://localhost:8080/",
          "height": 202
        }
      },
      "source": [
        "model2.fit(train_images, train_label, epochs=5)"
      ],
      "execution_count": 0,
      "outputs": [
        {
          "output_type": "stream",
          "text": [
            "Epoch 1/5\n",
            "60000/60000 [==============================] - 5s 81us/sample - loss: 0.4693 - acc: 0.8767\n",
            "Epoch 2/5\n",
            "60000/60000 [==============================] - 4s 73us/sample - loss: 0.3042 - acc: 0.9158\n",
            "Epoch 3/5\n",
            "60000/60000 [==============================] - 4s 72us/sample - loss: 0.2835 - acc: 0.9204\n",
            "Epoch 4/5\n",
            "60000/60000 [==============================] - 4s 71us/sample - loss: 0.2732 - acc: 0.9233\n",
            "Epoch 5/5\n",
            "60000/60000 [==============================] - 4s 72us/sample - loss: 0.2667 - acc: 0.9251\n"
          ],
          "name": "stdout"
        },
        {
          "output_type": "execute_result",
          "data": {
            "text/plain": [
              "<tensorflow.python.keras.callbacks.History at 0x7f19acf36f60>"
            ]
          },
          "metadata": {
            "tags": []
          },
          "execution_count": 221
        }
      ]
    },
    {
      "cell_type": "code",
      "metadata": {
        "colab_type": "code",
        "outputId": "d7946795-21cc-4c43-b752-018db5affcdf",
        "id": "iJPNmXDyGP2N",
        "colab": {
          "base_uri": "https://localhost:8080/",
          "height": 50
        }
      },
      "source": [
        "test_loss, test_acc = model2.evaluate(test_images, test_label)\n",
        "\n",
        "print('Test accuracy:', test_acc)"
      ],
      "execution_count": 0,
      "outputs": [
        {
          "output_type": "stream",
          "text": [
            "10000/10000 [==============================] - 0s 47us/sample - loss: 0.2658 - acc: 0.9269\n",
            "Test accuracy: 0.9269\n"
          ],
          "name": "stdout"
        }
      ]
    },
    {
      "cell_type": "markdown",
      "metadata": {
        "colab_type": "text",
        "id": "EL0wx86EGP2X"
      },
      "source": [
        "Testing the model on normal images"
      ]
    },
    {
      "cell_type": "code",
      "metadata": {
        "colab_type": "code",
        "id": "RjsJKsO4GP2Y",
        "colab": {}
      },
      "source": [
        "def plot2(k):\n",
        "  ar=np.empty(10)\n",
        "  for i in range(10):\n",
        "    ar[i]=model2.predict(test_images[k:k+1])[0][i]\n",
        "  mx=0\n",
        "  max_index=0\n",
        "  for i in range(10):\n",
        "    mx=max(mx,ar[i])\n",
        "    if(mx==ar[i]):\n",
        "      max_index=i\n",
        "  print(\"The predicted digit is\",max_index)\n",
        "  index = np.arange(10)\n",
        "  plt.bar(index,ar,tick_label=index)\n",
        "  plt.show\n",
        "def getimage2(k):\n",
        "  print(\"True Value is:\", test_label[k])  \n",
        "  plt.imshow(test_images[k], cmap='Greys')\n",
        "  plt.show()"
      ],
      "execution_count": 0,
      "outputs": []
    },
    {
      "cell_type": "code",
      "metadata": {
        "colab_type": "code",
        "outputId": "62b490b1-3cc8-43b5-ab21-bfe2c4bbf3cd",
        "id": "BBvdSiz6GP2f",
        "colab": {
          "base_uri": "https://localhost:8080/",
          "height": 571
        }
      },
      "source": [
        "k=random.randint(0,9999) \n",
        "#k=3460\n",
        "print(\"Index no:\",k)\n",
        "getimage2(k)\n",
        "plot2(k)"
      ],
      "execution_count": 0,
      "outputs": [
        {
          "output_type": "stream",
          "text": [
            "Index no: 9390\n",
            "True Value is: 3\n"
          ],
          "name": "stdout"
        },
        {
          "output_type": "display_data",
          "data": {
            "image/png": "[encoded data removed]",
            "text/plain": [
              "<Figure size 432x288 with 1 Axes>"
            ]
          },
          "metadata": {
            "tags": []
          }
        },
        {
          "output_type": "stream",
          "text": [
            "The predicted digit is 3\n"
          ],
          "name": "stdout"
        },
        {
          "output_type": "display_data",
          "data": {
            "image/png": "[encoded data removed]",
            "text/plain": [
              "<Figure size 432x288 with 1 Axes>"
            ]
          },
          "metadata": {
            "tags": []
          }
        }
      ]
    },
    {
      "cell_type": "code",
      "metadata": {
        "id": "VsOCeu33GKiX",
        "colab_type": "code",
        "colab": {}
      },
      "source": [
        "def realimage2(g): \n",
        "  print(\"Actual Image was:\")\n",
        "  plt.imshow(image_2[g][0].cpu().detach().reshape(28,28), cmap='Greys')\n",
        "  plt.show()\n",
        "\n",
        "def plotforeg2(g):\n",
        "  ar=np.empty(10)\n",
        "  for i in range(10):\n",
        "    ar[i]=model2.predict(a_2[g][0].cpu().detach())[:,i]\n",
        "  mx=0\n",
        "  max_index=0\n",
        "  for i in range(10):\n",
        "    mx=max(mx,ar[i])\n",
        "    if(mx==ar[i]):\n",
        "      max_index=i\n",
        "  print(\"Predicted element for  adversarial image:\",max_index)\n",
        "  index = np.arange(10)\n",
        "  plt.bar(index,ar,tick_label=index)\n",
        "  plt.show\n",
        "def getimage2(g):\n",
        "  print(\"True Value is:\", label_2[g])  \n",
        "  plt.imshow(a_2[g][0].cpu().detach().reshape(28,28), cmap='Greys')\n",
        "  plt.show()\n",
        "def getlabel2(g):\n",
        "  ar=np.empty(10)\n",
        "  for i in range(10):\n",
        "    ar[i]=model2.predict(image_2[g][0].cpu().detach())[:,i]\n",
        "  mx=0\n",
        "  max_index=0\n",
        "  for i in range(10):\n",
        "      mx=max(mx,ar[i])\n",
        "      if(mx==ar[i]):\n",
        "        max_index=i\n",
        "  print(\"Predicted element for normal image:      \",max_index)"
      ],
      "execution_count": 0,
      "outputs": []
    },
    {
      "cell_type": "code",
      "metadata": {
        "id": "I_l9VqktHIra",
        "colab_type": "code",
        "outputId": "02564187-c864-4e89-9c50-ce5f22547af0",
        "colab": {
          "base_uri": "https://localhost:8080/",
          "height": 857
        }
      },
      "source": [
        "k=random.randint(0,9999)\n",
        "print(\"k: \",k)\n",
        "getimage2(k)\n",
        "realimage2(k)\n",
        "plotforeg2(k)\n",
        "getlabel2(k)"
      ],
      "execution_count": 0,
      "outputs": [
        {
          "output_type": "stream",
          "text": [
            "k:  1277\n",
            "True Value is: 1\n"
          ],
          "name": "stdout"
        },
        {
          "output_type": "display_data",
          "data": {
            "image/png": "[encoded data removed]",
            "text/plain": [
              "<Figure size 432x288 with 1 Axes>"
            ]
          },
          "metadata": {
            "tags": []
          }
        },
        {
          "output_type": "stream",
          "text": [
            "Actual Image was:\n"
          ],
          "name": "stdout"
        },
        {
          "output_type": "display_data",
          "data": {
            "image/png": "[encoded data removed]",
            "text/plain": [
              "<Figure size 432x288 with 1 Axes>"
            ]
          },
          "metadata": {
            "tags": []
          }
        },
        {
          "output_type": "stream",
          "text": [
            "Predicted element for  adversarial image: 2\n",
            "Predicted element for normal image:       1\n"
          ],
          "name": "stdout"
        },
        {
          "output_type": "display_data",
          "data": {
            "image/png": "[encoded data removed]",
            "text/plain": [
              "<Figure size 432x288 with 1 Axes>"
            ]
          },
          "metadata": {
            "tags": []
          }
        }
      ]
    },
    {
      "cell_type": "code",
      "metadata": {
        "id": "hKdE-8UptZOM",
        "colab_type": "code",
        "colab": {}
      },
      "source": [
        "def accuracy2(epsilon):\n",
        "  a_2,label_2,image_2=AdvImage(epsilon)\n",
        "  predicted=[]\n",
        "  acc=0\n",
        "  for g in range(10000):\n",
        "    ar=np.empty(10)\n",
        "    for i in range(10):\n",
        "      ar[i]=model2.predict(a_2[g][0].cpu().detach())[:,i]\n",
        "    mx=0\n",
        "    max_index=0\n",
        "    for i in range(10):\n",
        "        mx=max(mx,ar[i])\n",
        "        if(mx==ar[i]):\n",
        "          max_index=i\n",
        "    #predicted.insert(g,max_index)\n",
        "    if max_index==label_2[g]:\n",
        "      acc=acc+1\n",
        "  return acc/10000"
      ],
      "execution_count": 0,
      "outputs": []
    },
    {
      "cell_type": "code",
      "metadata": {
        "id": "3Mhi1elftbx5",
        "colab_type": "code",
        "outputId": "b6e5ab59-c9a0-456b-efff-a46a32f01211",
        "colab": {
          "base_uri": "https://localhost:8080/",
          "height": 67
        }
      },
      "source": [
        "print(accuracy2(0.1))"
      ],
      "execution_count": 0,
      "outputs": [
        {
          "output_type": "stream",
          "text": [
            "!Attack Initiated!\n",
            "!Attack Successful!\n",
            "0.692\n"
          ],
          "name": "stdout"
        }
      ]
    },
    {
      "cell_type": "code",
      "metadata": {
        "id": "nvTxAaZWtnmG",
        "colab_type": "code",
        "outputId": "5a0ce6a0-eae9-44d9-9b63-9e651eeb8f76",
        "colab": {
          "base_uri": "https://localhost:8080/",
          "height": 168
        }
      },
      "source": [
        "print(accuracy2(0.15))\n",
        "print(accuracy2(0.2))\n",
        "print(accuracy2(0.3))"
      ],
      "execution_count": 0,
      "outputs": [
        {
          "output_type": "stream",
          "text": [
            "!Attack Initiated!\n",
            "!Attack Successful!\n",
            "0.426\n",
            "!Attack Initiated!\n",
            "!Attack Successful!\n",
            "0.2852\n",
            "!Attack Initiated!\n",
            "!Attack Successful!\n",
            "0.1862\n"
          ],
          "name": "stdout"
        }
      ]
    }
  ]
}